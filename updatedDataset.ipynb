{
  "nbformat": 4,
  "nbformat_minor": 0,
  "metadata": {
    "colab": {
      "provenance": [],
      "authorship_tag": "ABX9TyOOhvXhABnVAHRZBMZELN4P",
      "include_colab_link": true
    },
    "kernelspec": {
      "name": "python3",
      "display_name": "Python 3"
    },
    "language_info": {
      "name": "python"
    }
  },
  "cells": [
    {
      "cell_type": "markdown",
      "metadata": {
        "id": "view-in-github",
        "colab_type": "text"
      },
      "source": [
        "<a href=\"https://colab.research.google.com/github/biruk-tafese/MachineLearingIntern/blob/main/updatedDataset.ipynb\" target=\"_parent\"><img src=\"https://colab.research.google.com/assets/colab-badge.svg\" alt=\"Open In Colab\"/></a>"
      ]
    },
    {
      "cell_type": "code",
      "execution_count": 46,
      "metadata": {
        "id": "ed7kNbLFXTxN"
      },
      "outputs": [],
      "source": [
        "import numpy as np\n",
        "import pandas as pd\n",
        "from sklearn.ensemble import RandomForestClassifier  # For classification\n",
        "import seaborn as sns"
      ]
    },
    {
      "cell_type": "code",
      "source": [],
      "metadata": {
        "id": "2X25BcC3bPCO"
      },
      "execution_count": null,
      "outputs": []
    },
    {
      "cell_type": "code",
      "source": [
        "data = pd.read_csv('cpdata.csv')\n",
        "data"
      ],
      "metadata": {
        "id": "xDgsnc9QXc9m"
      },
      "execution_count": null,
      "outputs": []
    },
    {
      "cell_type": "code",
      "source": [
        "data.isnull().sum()"
      ],
      "metadata": {
        "id": "0X4qbfvmX4WM"
      },
      "execution_count": null,
      "outputs": []
    },
    {
      "cell_type": "code",
      "source": [
        "data.head(5)"
      ],
      "metadata": {
        "colab": {
          "base_uri": "https://localhost:8080/",
          "height": 206
        },
        "id": "glsex5znYYel",
        "outputId": "0a2d04f6-d6fc-48cb-ed27-88ddffb71b7e"
      },
      "execution_count": 29,
      "outputs": [
        {
          "output_type": "execute_result",
          "data": {
            "text/plain": [
              "   temperature   humidity        ph    rainfall label\n",
              "0    20.879744  82.002744  6.502985  202.935536  rice\n",
              "1    21.770462  80.319644  7.038096  226.655537  rice\n",
              "2    23.004459  82.320763  7.840207  263.964248  rice\n",
              "3    26.491096  80.158363  6.980401  242.864034  rice\n",
              "4    20.130175  81.604873  7.628473  262.717340  rice"
            ],
            "text/html": [
              "\n",
              "\n",
              "  <div id=\"df-0c47a017-02ee-484c-b6af-d01784aa3c7a\">\n",
              "    <div class=\"colab-df-container\">\n",
              "      <div>\n",
              "<style scoped>\n",
              "    .dataframe tbody tr th:only-of-type {\n",
              "        vertical-align: middle;\n",
              "    }\n",
              "\n",
              "    .dataframe tbody tr th {\n",
              "        vertical-align: top;\n",
              "    }\n",
              "\n",
              "    .dataframe thead th {\n",
              "        text-align: right;\n",
              "    }\n",
              "</style>\n",
              "<table border=\"1\" class=\"dataframe\">\n",
              "  <thead>\n",
              "    <tr style=\"text-align: right;\">\n",
              "      <th></th>\n",
              "      <th>temperature</th>\n",
              "      <th>humidity</th>\n",
              "      <th>ph</th>\n",
              "      <th>rainfall</th>\n",
              "      <th>label</th>\n",
              "    </tr>\n",
              "  </thead>\n",
              "  <tbody>\n",
              "    <tr>\n",
              "      <th>0</th>\n",
              "      <td>20.879744</td>\n",
              "      <td>82.002744</td>\n",
              "      <td>6.502985</td>\n",
              "      <td>202.935536</td>\n",
              "      <td>rice</td>\n",
              "    </tr>\n",
              "    <tr>\n",
              "      <th>1</th>\n",
              "      <td>21.770462</td>\n",
              "      <td>80.319644</td>\n",
              "      <td>7.038096</td>\n",
              "      <td>226.655537</td>\n",
              "      <td>rice</td>\n",
              "    </tr>\n",
              "    <tr>\n",
              "      <th>2</th>\n",
              "      <td>23.004459</td>\n",
              "      <td>82.320763</td>\n",
              "      <td>7.840207</td>\n",
              "      <td>263.964248</td>\n",
              "      <td>rice</td>\n",
              "    </tr>\n",
              "    <tr>\n",
              "      <th>3</th>\n",
              "      <td>26.491096</td>\n",
              "      <td>80.158363</td>\n",
              "      <td>6.980401</td>\n",
              "      <td>242.864034</td>\n",
              "      <td>rice</td>\n",
              "    </tr>\n",
              "    <tr>\n",
              "      <th>4</th>\n",
              "      <td>20.130175</td>\n",
              "      <td>81.604873</td>\n",
              "      <td>7.628473</td>\n",
              "      <td>262.717340</td>\n",
              "      <td>rice</td>\n",
              "    </tr>\n",
              "  </tbody>\n",
              "</table>\n",
              "</div>\n",
              "      <button class=\"colab-df-convert\" onclick=\"convertToInteractive('df-0c47a017-02ee-484c-b6af-d01784aa3c7a')\"\n",
              "              title=\"Convert this dataframe to an interactive table.\"\n",
              "              style=\"display:none;\">\n",
              "\n",
              "  <svg xmlns=\"http://www.w3.org/2000/svg\" height=\"24px\"viewBox=\"0 0 24 24\"\n",
              "       width=\"24px\">\n",
              "    <path d=\"M0 0h24v24H0V0z\" fill=\"none\"/>\n",
              "    <path d=\"M18.56 5.44l.94 2.06.94-2.06 2.06-.94-2.06-.94-.94-2.06-.94 2.06-2.06.94zm-11 1L8.5 8.5l.94-2.06 2.06-.94-2.06-.94L8.5 2.5l-.94 2.06-2.06.94zm10 10l.94 2.06.94-2.06 2.06-.94-2.06-.94-.94-2.06-.94 2.06-2.06.94z\"/><path d=\"M17.41 7.96l-1.37-1.37c-.4-.4-.92-.59-1.43-.59-.52 0-1.04.2-1.43.59L10.3 9.45l-7.72 7.72c-.78.78-.78 2.05 0 2.83L4 21.41c.39.39.9.59 1.41.59.51 0 1.02-.2 1.41-.59l7.78-7.78 2.81-2.81c.8-.78.8-2.07 0-2.86zM5.41 20L4 18.59l7.72-7.72 1.47 1.35L5.41 20z\"/>\n",
              "  </svg>\n",
              "      </button>\n",
              "\n",
              "\n",
              "\n",
              "    <div id=\"df-93f91c4a-feb1-4016-aa4d-aecca8b57d1e\">\n",
              "      <button class=\"colab-df-quickchart\" onclick=\"quickchart('df-93f91c4a-feb1-4016-aa4d-aecca8b57d1e')\"\n",
              "              title=\"Suggest charts.\"\n",
              "              style=\"display:none;\">\n",
              "\n",
              "<svg xmlns=\"http://www.w3.org/2000/svg\" height=\"24px\"viewBox=\"0 0 24 24\"\n",
              "     width=\"24px\">\n",
              "    <g>\n",
              "        <path d=\"M19 3H5c-1.1 0-2 .9-2 2v14c0 1.1.9 2 2 2h14c1.1 0 2-.9 2-2V5c0-1.1-.9-2-2-2zM9 17H7v-7h2v7zm4 0h-2V7h2v10zm4 0h-2v-4h2v4z\"/>\n",
              "    </g>\n",
              "</svg>\n",
              "      </button>\n",
              "    </div>\n",
              "\n",
              "<style>\n",
              "  .colab-df-quickchart {\n",
              "    background-color: #E8F0FE;\n",
              "    border: none;\n",
              "    border-radius: 50%;\n",
              "    cursor: pointer;\n",
              "    display: none;\n",
              "    fill: #1967D2;\n",
              "    height: 32px;\n",
              "    padding: 0 0 0 0;\n",
              "    width: 32px;\n",
              "  }\n",
              "\n",
              "  .colab-df-quickchart:hover {\n",
              "    background-color: #E2EBFA;\n",
              "    box-shadow: 0px 1px 2px rgba(60, 64, 67, 0.3), 0px 1px 3px 1px rgba(60, 64, 67, 0.15);\n",
              "    fill: #174EA6;\n",
              "  }\n",
              "\n",
              "  [theme=dark] .colab-df-quickchart {\n",
              "    background-color: #3B4455;\n",
              "    fill: #D2E3FC;\n",
              "  }\n",
              "\n",
              "  [theme=dark] .colab-df-quickchart:hover {\n",
              "    background-color: #434B5C;\n",
              "    box-shadow: 0px 1px 3px 1px rgba(0, 0, 0, 0.15);\n",
              "    filter: drop-shadow(0px 1px 2px rgba(0, 0, 0, 0.3));\n",
              "    fill: #FFFFFF;\n",
              "  }\n",
              "</style>\n",
              "\n",
              "    <script>\n",
              "      async function quickchart(key) {\n",
              "        const containerElement = document.querySelector('#' + key);\n",
              "        const charts = await google.colab.kernel.invokeFunction(\n",
              "            'suggestCharts', [key], {});\n",
              "      }\n",
              "    </script>\n",
              "\n",
              "      <script>\n",
              "\n",
              "function displayQuickchartButton(domScope) {\n",
              "  let quickchartButtonEl =\n",
              "    domScope.querySelector('#df-93f91c4a-feb1-4016-aa4d-aecca8b57d1e button.colab-df-quickchart');\n",
              "  quickchartButtonEl.style.display =\n",
              "    google.colab.kernel.accessAllowed ? 'block' : 'none';\n",
              "}\n",
              "\n",
              "        displayQuickchartButton(document);\n",
              "      </script>\n",
              "      <style>\n",
              "    .colab-df-container {\n",
              "      display:flex;\n",
              "      flex-wrap:wrap;\n",
              "      gap: 12px;\n",
              "    }\n",
              "\n",
              "    .colab-df-convert {\n",
              "      background-color: #E8F0FE;\n",
              "      border: none;\n",
              "      border-radius: 50%;\n",
              "      cursor: pointer;\n",
              "      display: none;\n",
              "      fill: #1967D2;\n",
              "      height: 32px;\n",
              "      padding: 0 0 0 0;\n",
              "      width: 32px;\n",
              "    }\n",
              "\n",
              "    .colab-df-convert:hover {\n",
              "      background-color: #E2EBFA;\n",
              "      box-shadow: 0px 1px 2px rgba(60, 64, 67, 0.3), 0px 1px 3px 1px rgba(60, 64, 67, 0.15);\n",
              "      fill: #174EA6;\n",
              "    }\n",
              "\n",
              "    [theme=dark] .colab-df-convert {\n",
              "      background-color: #3B4455;\n",
              "      fill: #D2E3FC;\n",
              "    }\n",
              "\n",
              "    [theme=dark] .colab-df-convert:hover {\n",
              "      background-color: #434B5C;\n",
              "      box-shadow: 0px 1px 3px 1px rgba(0, 0, 0, 0.15);\n",
              "      filter: drop-shadow(0px 1px 2px rgba(0, 0, 0, 0.3));\n",
              "      fill: #FFFFFF;\n",
              "    }\n",
              "  </style>\n",
              "\n",
              "      <script>\n",
              "        const buttonEl =\n",
              "          document.querySelector('#df-0c47a017-02ee-484c-b6af-d01784aa3c7a button.colab-df-convert');\n",
              "        buttonEl.style.display =\n",
              "          google.colab.kernel.accessAllowed ? 'block' : 'none';\n",
              "\n",
              "        async function convertToInteractive(key) {\n",
              "          const element = document.querySelector('#df-0c47a017-02ee-484c-b6af-d01784aa3c7a');\n",
              "          const dataTable =\n",
              "            await google.colab.kernel.invokeFunction('convertToInteractive',\n",
              "                                                     [key], {});\n",
              "          if (!dataTable) return;\n",
              "\n",
              "          const docLinkHtml = 'Like what you see? Visit the ' +\n",
              "            '<a target=\"_blank\" href=https://colab.research.google.com/notebooks/data_table.ipynb>data table notebook</a>'\n",
              "            + ' to learn more about interactive tables.';\n",
              "          element.innerHTML = '';\n",
              "          dataTable['output_type'] = 'display_data';\n",
              "          await google.colab.output.renderOutput(dataTable, element);\n",
              "          const docLink = document.createElement('div');\n",
              "          docLink.innerHTML = docLinkHtml;\n",
              "          element.appendChild(docLink);\n",
              "        }\n",
              "      </script>\n",
              "    </div>\n",
              "  </div>\n"
            ]
          },
          "metadata": {},
          "execution_count": 29
        }
      ]
    },
    {
      "cell_type": "code",
      "source": [
        "X = data.drop('label',axis=1)\n",
        "y= data['label']"
      ],
      "metadata": {
        "id": "sDZB3GQJX8Pq"
      },
      "execution_count": 6,
      "outputs": []
    },
    {
      "cell_type": "code",
      "source": [
        "from sklearn.model_selection import train_test_split\n",
        "\n",
        "X_train, X_test, y_train, y_test = train_test_split(X, y, test_size=0.2, random_state=42)\n"
      ],
      "metadata": {
        "id": "blki-4woYLl4"
      },
      "execution_count": 106,
      "outputs": []
    },
    {
      "cell_type": "code",
      "source": [
        "# Create the Random Forest model\n",
        "model = RandomForestClassifier(n_estimators=50, max_depth=10, random_state=42)  # Adjust hyperparameters as needed\n",
        "\n",
        "# Train the model\n",
        "model.fit(X_train, y_train)\n"
      ],
      "metadata": {
        "colab": {
          "base_uri": "https://localhost:8080/",
          "height": 74
        },
        "id": "M6XP8UyMYQl7",
        "outputId": "a37c25b8-45c1-46c0-cf38-3673241c9163"
      },
      "execution_count": 107,
      "outputs": [
        {
          "output_type": "execute_result",
          "data": {
            "text/plain": [
              "RandomForestClassifier(max_depth=10, n_estimators=50, random_state=42)"
            ],
            "text/html": [
              "<style>#sk-container-id-17 {color: black;background-color: white;}#sk-container-id-17 pre{padding: 0;}#sk-container-id-17 div.sk-toggleable {background-color: white;}#sk-container-id-17 label.sk-toggleable__label {cursor: pointer;display: block;width: 100%;margin-bottom: 0;padding: 0.3em;box-sizing: border-box;text-align: center;}#sk-container-id-17 label.sk-toggleable__label-arrow:before {content: \"▸\";float: left;margin-right: 0.25em;color: #696969;}#sk-container-id-17 label.sk-toggleable__label-arrow:hover:before {color: black;}#sk-container-id-17 div.sk-estimator:hover label.sk-toggleable__label-arrow:before {color: black;}#sk-container-id-17 div.sk-toggleable__content {max-height: 0;max-width: 0;overflow: hidden;text-align: left;background-color: #f0f8ff;}#sk-container-id-17 div.sk-toggleable__content pre {margin: 0.2em;color: black;border-radius: 0.25em;background-color: #f0f8ff;}#sk-container-id-17 input.sk-toggleable__control:checked~div.sk-toggleable__content {max-height: 200px;max-width: 100%;overflow: auto;}#sk-container-id-17 input.sk-toggleable__control:checked~label.sk-toggleable__label-arrow:before {content: \"▾\";}#sk-container-id-17 div.sk-estimator input.sk-toggleable__control:checked~label.sk-toggleable__label {background-color: #d4ebff;}#sk-container-id-17 div.sk-label input.sk-toggleable__control:checked~label.sk-toggleable__label {background-color: #d4ebff;}#sk-container-id-17 input.sk-hidden--visually {border: 0;clip: rect(1px 1px 1px 1px);clip: rect(1px, 1px, 1px, 1px);height: 1px;margin: -1px;overflow: hidden;padding: 0;position: absolute;width: 1px;}#sk-container-id-17 div.sk-estimator {font-family: monospace;background-color: #f0f8ff;border: 1px dotted black;border-radius: 0.25em;box-sizing: border-box;margin-bottom: 0.5em;}#sk-container-id-17 div.sk-estimator:hover {background-color: #d4ebff;}#sk-container-id-17 div.sk-parallel-item::after {content: \"\";width: 100%;border-bottom: 1px solid gray;flex-grow: 1;}#sk-container-id-17 div.sk-label:hover label.sk-toggleable__label {background-color: #d4ebff;}#sk-container-id-17 div.sk-serial::before {content: \"\";position: absolute;border-left: 1px solid gray;box-sizing: border-box;top: 0;bottom: 0;left: 50%;z-index: 0;}#sk-container-id-17 div.sk-serial {display: flex;flex-direction: column;align-items: center;background-color: white;padding-right: 0.2em;padding-left: 0.2em;position: relative;}#sk-container-id-17 div.sk-item {position: relative;z-index: 1;}#sk-container-id-17 div.sk-parallel {display: flex;align-items: stretch;justify-content: center;background-color: white;position: relative;}#sk-container-id-17 div.sk-item::before, #sk-container-id-17 div.sk-parallel-item::before {content: \"\";position: absolute;border-left: 1px solid gray;box-sizing: border-box;top: 0;bottom: 0;left: 50%;z-index: -1;}#sk-container-id-17 div.sk-parallel-item {display: flex;flex-direction: column;z-index: 1;position: relative;background-color: white;}#sk-container-id-17 div.sk-parallel-item:first-child::after {align-self: flex-end;width: 50%;}#sk-container-id-17 div.sk-parallel-item:last-child::after {align-self: flex-start;width: 50%;}#sk-container-id-17 div.sk-parallel-item:only-child::after {width: 0;}#sk-container-id-17 div.sk-dashed-wrapped {border: 1px dashed gray;margin: 0 0.4em 0.5em 0.4em;box-sizing: border-box;padding-bottom: 0.4em;background-color: white;}#sk-container-id-17 div.sk-label label {font-family: monospace;font-weight: bold;display: inline-block;line-height: 1.2em;}#sk-container-id-17 div.sk-label-container {text-align: center;}#sk-container-id-17 div.sk-container {/* jupyter's `normalize.less` sets `[hidden] { display: none; }` but bootstrap.min.css set `[hidden] { display: none !important; }` so we also need the `!important` here to be able to override the default hidden behavior on the sphinx rendered scikit-learn.org. See: https://github.com/scikit-learn/scikit-learn/issues/21755 */display: inline-block !important;position: relative;}#sk-container-id-17 div.sk-text-repr-fallback {display: none;}</style><div id=\"sk-container-id-17\" class=\"sk-top-container\"><div class=\"sk-text-repr-fallback\"><pre>RandomForestClassifier(max_depth=10, n_estimators=50, random_state=42)</pre><b>In a Jupyter environment, please rerun this cell to show the HTML representation or trust the notebook. <br />On GitHub, the HTML representation is unable to render, please try loading this page with nbviewer.org.</b></div><div class=\"sk-container\" hidden><div class=\"sk-item\"><div class=\"sk-estimator sk-toggleable\"><input class=\"sk-toggleable__control sk-hidden--visually\" id=\"sk-estimator-id-17\" type=\"checkbox\" checked><label for=\"sk-estimator-id-17\" class=\"sk-toggleable__label sk-toggleable__label-arrow\">RandomForestClassifier</label><div class=\"sk-toggleable__content\"><pre>RandomForestClassifier(max_depth=10, n_estimators=50, random_state=42)</pre></div></div></div></div></div>"
            ]
          },
          "metadata": {},
          "execution_count": 107
        }
      ]
    },
    {
      "cell_type": "code",
      "source": [
        "y_pred = model.predict(X_test)\n"
      ],
      "metadata": {
        "id": "cDkyKEYrYgKX"
      },
      "execution_count": 108,
      "outputs": []
    },
    {
      "cell_type": "code",
      "source": [
        "y_pred"
      ],
      "metadata": {
        "colab": {
          "base_uri": "https://localhost:8080/"
        },
        "id": "-v7MYiA6YjaL",
        "outputId": "fec3adad-ea99-4ba4-f892-830f71ed59d6"
      },
      "execution_count": 109,
      "outputs": [
        {
          "output_type": "execute_result",
          "data": {
            "text/plain": [
              "array(['Jute', 'orange', 'Black gram', 'Moth Beans', 'Peas',\n",
              "       'Pigeon Peas', 'mango', 'Tobacco', 'Tea', 'Coconut', 'maize',\n",
              "       'Mung Bean', 'Lentil', 'muskmelon', 'papaya', 'Cotton', 'banana',\n",
              "       'Lentil', 'mango', 'Tobacco', 'orange', 'millet', 'Rubber',\n",
              "       'Mung Bean', 'muskmelon', 'pomegranate', 'pomegranate', 'millet',\n",
              "       'mango', 'maize', 'Black gram', 'Coconut', 'Pigeon Peas', 'Lentil',\n",
              "       'Rubber', 'grapes', 'Kidney Beans', 'wheat', 'mango',\n",
              "       'Kidney Beans', 'papaya', 'grapes', 'Tea', 'Tobacco',\n",
              "       'Adzuki Beans', 'orange', 'Black gram', 'Pigeon Peas', 'apple',\n",
              "       'orange', 'Ground Nut', 'Mung Bean', 'grapes', 'Pigeon Peas',\n",
              "       'papaya', 'wheat', 'maize', 'wheat', 'Tobacco', 'millet',\n",
              "       'Tobacco', 'Sugarcane', 'orange', 'apple', 'millet', 'Black gram',\n",
              "       'orange', 'pomegranate', 'Mung Bean', 'watermelon', 'Kidney Beans',\n",
              "       'Tobacco', 'Mung Bean', 'Jute', 'Mung Bean', 'grapes', 'mango',\n",
              "       'orange', 'Tobacco', 'rice', 'wheat', 'rice', 'orange',\n",
              "       'Pigeon Peas', 'pomegranate', 'Adzuki Beans', 'pomegranate',\n",
              "       'Black gram', 'Jute', 'papaya', 'Black gram', 'grapes',\n",
              "       'Moth Beans', 'Cotton', 'Tea', 'banana', 'Ground Nut', 'rice',\n",
              "       'Adzuki Beans', 'banana', 'Tobacco', 'papaya', 'watermelon',\n",
              "       'apple', 'Cotton', 'Jute', 'grapes', 'Adzuki Beans', 'Ground Nut',\n",
              "       'Black gram', 'Ground Nut', 'wheat', 'maize', 'Peas', 'Coffee',\n",
              "       'Tobacco', 'muskmelon', 'millet', 'Sugarcane', 'Mung Bean',\n",
              "       'millet', 'Moth Beans', 'Mung Bean', 'banana', 'watermelon',\n",
              "       'Black gram', 'wheat', 'Jute', 'grapes', 'Ground Nut', 'mango',\n",
              "       'pomegranate', 'Ground Nut', 'Chickpea', 'papaya', 'maize', 'Peas',\n",
              "       'Tobacco', 'pomegranate', 'Tobacco', 'Kidney Beans', 'Chickpea',\n",
              "       'Coffee', 'orange', 'Tea', 'rice', 'Black gram', 'papaya',\n",
              "       'Mung Bean', 'muskmelon', 'Mung Bean', 'pomegranate', 'rice',\n",
              "       'mango', 'rice', 'rice', 'Coffee', 'Adzuki Beans', 'rice', 'Tea',\n",
              "       'Tobacco', 'Black gram', 'watermelon', 'Chickpea', 'Peas', 'Tea',\n",
              "       'Chickpea', 'papaya', 'Black gram', 'Moth Beans', 'Jute',\n",
              "       'Tobacco', 'pomegranate', 'banana', 'Mung Bean', 'wheat', 'wheat',\n",
              "       'maize', 'wheat', 'Mung Bean', 'Ground Nut', 'maize', 'Sugarcane',\n",
              "       'Adzuki Beans', 'Adzuki Beans', 'maize', 'watermelon', 'Rubber',\n",
              "       'banana', 'maize', 'Mung Bean', 'Coffee', 'Pigeon Peas', 'wheat',\n",
              "       'Mung Bean', 'Coffee', 'Rubber', 'Mung Bean', 'maize',\n",
              "       'Black gram', 'Coconut', 'watermelon', 'Adzuki Beans', 'Tobacco',\n",
              "       'Chickpea', 'maize', 'Sugarcane', 'maize', 'millet', 'Rubber',\n",
              "       'Chickpea', 'apple', 'Black gram', 'Jute', 'orange', 'watermelon',\n",
              "       'maize', 'Coconut', 'Rubber', 'Black gram', 'mango', 'Tobacco',\n",
              "       'Rubber', 'Tobacco', 'Ground Nut', 'Jute', 'millet', 'Ground Nut',\n",
              "       'Lentil', 'Peas', 'Tea', 'Coconut', 'Coconut', 'Peas',\n",
              "       'Moth Beans', 'apple', 'Coffee', 'Black gram', 'papaya',\n",
              "       'Adzuki Beans', 'grapes', 'Jute', 'Lentil', 'Lentil', 'maize',\n",
              "       'Moth Beans', 'Mung Bean', 'Rubber', 'pomegranate', 'Tobacco',\n",
              "       'maize', 'Peas', 'Coffee', 'Tobacco', 'orange', 'banana', 'Peas',\n",
              "       'Sugarcane', 'Coconut', 'grapes', 'orange', 'Rubber', 'Coffee',\n",
              "       'muskmelon', 'rice', 'banana', 'Coffee', 'watermelon', 'Sugarcane',\n",
              "       'wheat', 'orange', 'mango', 'Tea', 'watermelon', 'rice', 'banana',\n",
              "       'Black gram', 'Tea', 'Jute', 'Adzuki Beans', 'Coffee',\n",
              "       'Ground Nut', 'Peas', 'grapes', 'Tea', 'muskmelon', 'rice',\n",
              "       'Adzuki Beans', 'Sugarcane', 'Coffee', 'rice', 'millet', 'banana',\n",
              "       'millet', 'Chickpea', 'Kidney Beans', 'Adzuki Beans', 'papaya',\n",
              "       'Rubber', 'papaya', 'Coconut', 'Ground Nut', 'mango',\n",
              "       'Pigeon Peas', 'maize', 'grapes', 'Kidney Beans', 'Sugarcane',\n",
              "       'Ground Nut', 'muskmelon', 'Peas', 'Pigeon Peas', 'millet',\n",
              "       'Black gram', 'Kidney Beans', 'Coffee', 'watermelon', 'Lentil',\n",
              "       'Ground Nut', 'Rubber', 'Tea', 'Kidney Beans', 'Jute', 'rice',\n",
              "       'Adzuki Beans', 'Peas', 'banana', 'orange', 'watermelon', 'millet',\n",
              "       'apple', 'Peas', 'Coconut', 'Coconut', 'millet', 'Coffee',\n",
              "       'Rubber', 'grapes', 'Kidney Beans', 'Adzuki Beans', 'wheat',\n",
              "       'Chickpea', 'Sugarcane', 'Coffee', 'millet', 'Tobacco', 'banana',\n",
              "       'Lentil', 'apple', 'muskmelon', 'Coffee', 'Coffee', 'orange',\n",
              "       'Lentil', 'Coconut', 'mango', 'apple', 'mango', 'wheat',\n",
              "       'pomegranate', 'Ground Nut', 'Tobacco', 'maize', 'muskmelon',\n",
              "       'grapes', 'Coconut', 'millet', 'Peas', 'Tobacco', 'Ground Nut',\n",
              "       'muskmelon', 'Cotton', 'Coffee', 'pomegranate', 'orange',\n",
              "       'muskmelon', 'Coffee', 'Rubber', 'Coconut', 'Cotton', 'muskmelon',\n",
              "       'rice', 'Chickpea', 'millet', 'Cotton', 'Coffee', 'Coffee',\n",
              "       'papaya', 'Mung Bean', 'Tea', 'Rubber', 'Jute', 'muskmelon',\n",
              "       'banana', 'Rubber', 'Coffee', 'Peas', 'Adzuki Beans', 'mango',\n",
              "       'Sugarcane', 'millet', 'muskmelon', 'Black gram', 'rice',\n",
              "       'Moth Beans', 'rice', 'muskmelon', 'apple', 'Adzuki Beans',\n",
              "       'orange', 'Rubber', 'apple', 'mango', 'Ground Nut', 'papaya',\n",
              "       'Ground Nut', 'mango', 'Chickpea', 'millet', 'millet', 'millet',\n",
              "       'muskmelon', 'Cotton', 'Ground Nut', 'muskmelon', 'Pigeon Peas',\n",
              "       'Tea', 'grapes', 'Ground Nut', 'Coconut', 'Jute', 'orange',\n",
              "       'Lentil', 'watermelon', 'muskmelon', 'Peas', 'apple', 'watermelon',\n",
              "       'Mung Bean', 'apple', 'Sugarcane', 'Tobacco', 'Sugarcane',\n",
              "       'Rubber', 'mango', 'banana', 'mango', 'Cotton', 'millet',\n",
              "       'Sugarcane', 'papaya', 'Coconut', 'Pigeon Peas', 'orange',\n",
              "       'pomegranate', 'Ground Nut', 'Chickpea', 'orange', 'Lentil',\n",
              "       'Black gram', 'watermelon', 'Coconut', 'Lentil', 'Kidney Beans',\n",
              "       'millet', 'Coffee', 'maize', 'pomegranate', 'mango', 'wheat',\n",
              "       'Chickpea', 'watermelon', 'Chickpea', 'Jute', 'Tea', 'orange',\n",
              "       'Coffee', 'Pigeon Peas', 'Rubber', 'Rubber', 'millet',\n",
              "       'Kidney Beans', 'Coffee', 'mango', 'Rubber', 'Jute', 'Moth Beans',\n",
              "       'Tea', 'banana', 'Sugarcane', 'Coffee', 'Lentil', 'Cotton',\n",
              "       'pomegranate', 'mango', 'Jute', 'mango', 'rice', 'Ground Nut',\n",
              "       'Lentil', 'Rubber', 'Coffee', 'rice', 'pomegranate', 'Jute',\n",
              "       'Adzuki Beans', 'Kidney Beans', 'Pigeon Peas', 'pomegranate',\n",
              "       'orange', 'Lentil', 'Tea', 'muskmelon', 'banana', 'Jute', 'Peas',\n",
              "       'Cotton', 'Peas', 'Chickpea', 'Peas', 'Rubber', 'watermelon',\n",
              "       'orange', 'Moth Beans', 'millet', 'mango', 'watermelon', 'Peas',\n",
              "       'Coconut', 'Tea', 'Mung Bean', 'Ground Nut', 'Moth Beans',\n",
              "       'banana', 'wheat', 'Rubber', 'orange', 'papaya', 'Tobacco',\n",
              "       'Lentil', 'millet', 'Lentil', 'Kidney Beans', 'orange', 'Chickpea',\n",
              "       'Lentil', 'apple', 'papaya', 'grapes', 'Rubber', 'Tea', 'wheat',\n",
              "       'Sugarcane', 'banana', 'Coffee', 'grapes', 'Tea', 'Pigeon Peas',\n",
              "       'rice', 'mango', 'rice', 'muskmelon', 'Cotton', 'Kidney Beans',\n",
              "       'millet', 'orange', 'millet', 'rice', 'rice', 'Coffee', 'orange',\n",
              "       'Black gram', 'Mung Bean', 'Jute', 'Tobacco', 'Coconut',\n",
              "       'pomegranate', 'Coffee', 'maize', 'Coffee', 'mango', 'apple',\n",
              "       'apple', 'Chickpea', 'Moth Beans', 'Pigeon Peas', 'banana', 'Tea',\n",
              "       'Chickpea', 'Chickpea', 'banana', 'watermelon', 'Tobacco',\n",
              "       'Mung Bean', 'maize', 'pomegranate', 'banana', 'banana', 'banana',\n",
              "       'Cotton', 'Tobacco', 'apple', 'Adzuki Beans', 'muskmelon',\n",
              "       'Coconut', 'Mung Bean', 'maize', 'Chickpea', 'Moth Beans',\n",
              "       'Lentil', 'Ground Nut', 'Tea', 'Sugarcane', 'Black gram', 'grapes',\n",
              "       'grapes', 'muskmelon', 'apple', 'Peas', 'Kidney Beans'],\n",
              "      dtype=object)"
            ]
          },
          "metadata": {},
          "execution_count": 109
        }
      ]
    },
    {
      "cell_type": "code",
      "source": [
        "np.mean(y_pred == y_test)"
      ],
      "metadata": {
        "id": "7IJyNpjuYp-9"
      },
      "execution_count": null,
      "outputs": []
    },
    {
      "cell_type": "code",
      "source": [
        "#evaluate model performance\n",
        "from sklearn.metrics import accuracy_score, classification_report\n",
        "\n",
        "accuracy = accuracy_score(y_test, y_pred)\n",
        "report = classification_report(y_test, y_pred)\n"
      ],
      "metadata": {
        "id": "51O9Hux3ZGjb"
      },
      "execution_count": 111,
      "outputs": []
    },
    {
      "cell_type": "code",
      "source": [
        "print('accuracy:', accuracy)\n",
        "print('report:', report)"
      ],
      "metadata": {
        "id": "dD9IGANJZH0V"
      },
      "execution_count": null,
      "outputs": []
    },
    {
      "cell_type": "code",
      "source": [
        "from sklearn.preprocessing import MinMaxScaler\n",
        "# Extract numerical columns for scaling\n",
        "numerical_columns = ['temperature','humidity','ph','rainfall']\n",
        "\n",
        "# Perform normalization\n",
        "scaler_minmax = MinMaxScaler()\n",
        "data[numerical_columns] = scaler_minmax.fit_transform(data[numerical_columns])\n",
        "\n",
        "print(\"Normalized DataFrame:\\n\", data)"
      ],
      "metadata": {
        "colab": {
          "base_uri": "https://localhost:8080/"
        },
        "id": "mni7kZqcZwpb",
        "outputId": "5fb6b51e-d10f-4aa2-d1cd-02168cc7a9a0"
      },
      "execution_count": 113,
      "outputs": [
        {
          "output_type": "stream",
          "name": "stdout",
          "text": [
            "Normalized DataFrame:\n",
            "       temperature  humidity        ph  rainfall       label\n",
            "0        0.261131  0.800116  0.466264  0.484546        rice\n",
            "1        0.280426  0.781404  0.549480  0.547446        rice\n",
            "2        0.307159  0.803652  0.674219  0.646381        rice\n",
            "3        0.382691  0.779611  0.540508  0.590428        rice\n",
            "4        0.244892  0.795693  0.641291  0.643075        rice\n",
            "...           ...       ...       ...       ...         ...\n",
            "3095     0.356624  0.884987  0.507025  0.100969  watermelon\n",
            "3096     0.385882  0.830053  0.417468  0.074550  watermelon\n",
            "3097     0.357560  0.825715  0.528664  0.056539  watermelon\n",
            "3098     0.391495  0.821125  0.460088  0.063008  watermelon\n",
            "3099     0.393413  0.882509  0.428607  0.101663  watermelon\n",
            "\n",
            "[3100 rows x 5 columns]\n"
          ]
        }
      ]
    },
    {
      "cell_type": "code",
      "source": [
        "dependent_train, dependent_test, independent_train, independent_test = train_test_split(y, X, test_size=0.2, random_state=42)"
      ],
      "metadata": {
        "id": "vLSJ06cSaReB"
      },
      "execution_count": 114,
      "outputs": []
    },
    {
      "cell_type": "code",
      "source": [
        "y"
      ],
      "metadata": {
        "colab": {
          "base_uri": "https://localhost:8080/"
        },
        "id": "pSI8slLKaVZH",
        "outputId": "27bac83a-f29b-4701-e1c0-866611b8abb7"
      },
      "execution_count": 115,
      "outputs": [
        {
          "output_type": "execute_result",
          "data": {
            "text/plain": [
              "0             rice\n",
              "1             rice\n",
              "2             rice\n",
              "3             rice\n",
              "4             rice\n",
              "           ...    \n",
              "3095    watermelon\n",
              "3096    watermelon\n",
              "3097    watermelon\n",
              "3098    watermelon\n",
              "3099    watermelon\n",
              "Name: label, Length: 3100, dtype: object"
            ]
          },
          "metadata": {},
          "execution_count": 115
        }
      ]
    },
    {
      "cell_type": "code",
      "source": [
        "X"
      ],
      "metadata": {
        "id": "1AlFUqCnaaaa"
      },
      "execution_count": null,
      "outputs": []
    },
    {
      "cell_type": "code",
      "source": [
        "dependent_train.shape\n"
      ],
      "metadata": {
        "id": "nu6nc4hHa490"
      },
      "execution_count": null,
      "outputs": []
    },
    {
      "cell_type": "code",
      "source": [
        "dependent_test.shape"
      ],
      "metadata": {
        "colab": {
          "base_uri": "https://localhost:8080/"
        },
        "id": "7_LWzrhda2R8",
        "outputId": "8e5acdad-ed99-4c5d-a315-eb8658563ec3"
      },
      "execution_count": 117,
      "outputs": [
        {
          "output_type": "execute_result",
          "data": {
            "text/plain": [
              "(620,)"
            ]
          },
          "metadata": {},
          "execution_count": 117
        }
      ]
    },
    {
      "cell_type": "code",
      "source": [
        "cor = data.corr()\n",
        "cor"
      ],
      "metadata": {
        "colab": {
          "base_uri": "https://localhost:8080/",
          "height": 229
        },
        "id": "mumyeIUBbF9f",
        "outputId": "ab411a53-628a-455e-c56d-d51fc33013d3"
      },
      "execution_count": 118,
      "outputs": [
        {
          "output_type": "stream",
          "name": "stderr",
          "text": [
            "<ipython-input-118-e8715df75048>:1: FutureWarning: The default value of numeric_only in DataFrame.corr is deprecated. In a future version, it will default to False. Select only valid columns or specify the value of numeric_only to silence this warning.\n",
            "  cor = data.corr()\n"
          ]
        },
        {
          "output_type": "execute_result",
          "data": {
            "text/plain": [
              "             temperature  humidity        ph  rainfall\n",
              "temperature     1.000000 -0.076999  0.017024 -0.055143\n",
              "humidity       -0.076999  1.000000 -0.002359  0.192074\n",
              "ph              0.017024 -0.002359  1.000000 -0.288598\n",
              "rainfall       -0.055143  0.192074 -0.288598  1.000000"
            ],
            "text/html": [
              "\n",
              "\n",
              "  <div id=\"df-7627754e-888d-41bf-a5e9-163c558f9e3e\">\n",
              "    <div class=\"colab-df-container\">\n",
              "      <div>\n",
              "<style scoped>\n",
              "    .dataframe tbody tr th:only-of-type {\n",
              "        vertical-align: middle;\n",
              "    }\n",
              "\n",
              "    .dataframe tbody tr th {\n",
              "        vertical-align: top;\n",
              "    }\n",
              "\n",
              "    .dataframe thead th {\n",
              "        text-align: right;\n",
              "    }\n",
              "</style>\n",
              "<table border=\"1\" class=\"dataframe\">\n",
              "  <thead>\n",
              "    <tr style=\"text-align: right;\">\n",
              "      <th></th>\n",
              "      <th>temperature</th>\n",
              "      <th>humidity</th>\n",
              "      <th>ph</th>\n",
              "      <th>rainfall</th>\n",
              "    </tr>\n",
              "  </thead>\n",
              "  <tbody>\n",
              "    <tr>\n",
              "      <th>temperature</th>\n",
              "      <td>1.000000</td>\n",
              "      <td>-0.076999</td>\n",
              "      <td>0.017024</td>\n",
              "      <td>-0.055143</td>\n",
              "    </tr>\n",
              "    <tr>\n",
              "      <th>humidity</th>\n",
              "      <td>-0.076999</td>\n",
              "      <td>1.000000</td>\n",
              "      <td>-0.002359</td>\n",
              "      <td>0.192074</td>\n",
              "    </tr>\n",
              "    <tr>\n",
              "      <th>ph</th>\n",
              "      <td>0.017024</td>\n",
              "      <td>-0.002359</td>\n",
              "      <td>1.000000</td>\n",
              "      <td>-0.288598</td>\n",
              "    </tr>\n",
              "    <tr>\n",
              "      <th>rainfall</th>\n",
              "      <td>-0.055143</td>\n",
              "      <td>0.192074</td>\n",
              "      <td>-0.288598</td>\n",
              "      <td>1.000000</td>\n",
              "    </tr>\n",
              "  </tbody>\n",
              "</table>\n",
              "</div>\n",
              "      <button class=\"colab-df-convert\" onclick=\"convertToInteractive('df-7627754e-888d-41bf-a5e9-163c558f9e3e')\"\n",
              "              title=\"Convert this dataframe to an interactive table.\"\n",
              "              style=\"display:none;\">\n",
              "\n",
              "  <svg xmlns=\"http://www.w3.org/2000/svg\" height=\"24px\"viewBox=\"0 0 24 24\"\n",
              "       width=\"24px\">\n",
              "    <path d=\"M0 0h24v24H0V0z\" fill=\"none\"/>\n",
              "    <path d=\"M18.56 5.44l.94 2.06.94-2.06 2.06-.94-2.06-.94-.94-2.06-.94 2.06-2.06.94zm-11 1L8.5 8.5l.94-2.06 2.06-.94-2.06-.94L8.5 2.5l-.94 2.06-2.06.94zm10 10l.94 2.06.94-2.06 2.06-.94-2.06-.94-.94-2.06-.94 2.06-2.06.94z\"/><path d=\"M17.41 7.96l-1.37-1.37c-.4-.4-.92-.59-1.43-.59-.52 0-1.04.2-1.43.59L10.3 9.45l-7.72 7.72c-.78.78-.78 2.05 0 2.83L4 21.41c.39.39.9.59 1.41.59.51 0 1.02-.2 1.41-.59l7.78-7.78 2.81-2.81c.8-.78.8-2.07 0-2.86zM5.41 20L4 18.59l7.72-7.72 1.47 1.35L5.41 20z\"/>\n",
              "  </svg>\n",
              "      </button>\n",
              "\n",
              "\n",
              "\n",
              "    <div id=\"df-74e7470e-bb4a-4ae3-9f58-f0fb17879613\">\n",
              "      <button class=\"colab-df-quickchart\" onclick=\"quickchart('df-74e7470e-bb4a-4ae3-9f58-f0fb17879613')\"\n",
              "              title=\"Suggest charts.\"\n",
              "              style=\"display:none;\">\n",
              "\n",
              "<svg xmlns=\"http://www.w3.org/2000/svg\" height=\"24px\"viewBox=\"0 0 24 24\"\n",
              "     width=\"24px\">\n",
              "    <g>\n",
              "        <path d=\"M19 3H5c-1.1 0-2 .9-2 2v14c0 1.1.9 2 2 2h14c1.1 0 2-.9 2-2V5c0-1.1-.9-2-2-2zM9 17H7v-7h2v7zm4 0h-2V7h2v10zm4 0h-2v-4h2v4z\"/>\n",
              "    </g>\n",
              "</svg>\n",
              "      </button>\n",
              "    </div>\n",
              "\n",
              "<style>\n",
              "  .colab-df-quickchart {\n",
              "    background-color: #E8F0FE;\n",
              "    border: none;\n",
              "    border-radius: 50%;\n",
              "    cursor: pointer;\n",
              "    display: none;\n",
              "    fill: #1967D2;\n",
              "    height: 32px;\n",
              "    padding: 0 0 0 0;\n",
              "    width: 32px;\n",
              "  }\n",
              "\n",
              "  .colab-df-quickchart:hover {\n",
              "    background-color: #E2EBFA;\n",
              "    box-shadow: 0px 1px 2px rgba(60, 64, 67, 0.3), 0px 1px 3px 1px rgba(60, 64, 67, 0.15);\n",
              "    fill: #174EA6;\n",
              "  }\n",
              "\n",
              "  [theme=dark] .colab-df-quickchart {\n",
              "    background-color: #3B4455;\n",
              "    fill: #D2E3FC;\n",
              "  }\n",
              "\n",
              "  [theme=dark] .colab-df-quickchart:hover {\n",
              "    background-color: #434B5C;\n",
              "    box-shadow: 0px 1px 3px 1px rgba(0, 0, 0, 0.15);\n",
              "    filter: drop-shadow(0px 1px 2px rgba(0, 0, 0, 0.3));\n",
              "    fill: #FFFFFF;\n",
              "  }\n",
              "</style>\n",
              "\n",
              "    <script>\n",
              "      async function quickchart(key) {\n",
              "        const containerElement = document.querySelector('#' + key);\n",
              "        const charts = await google.colab.kernel.invokeFunction(\n",
              "            'suggestCharts', [key], {});\n",
              "      }\n",
              "    </script>\n",
              "\n",
              "      <script>\n",
              "\n",
              "function displayQuickchartButton(domScope) {\n",
              "  let quickchartButtonEl =\n",
              "    domScope.querySelector('#df-74e7470e-bb4a-4ae3-9f58-f0fb17879613 button.colab-df-quickchart');\n",
              "  quickchartButtonEl.style.display =\n",
              "    google.colab.kernel.accessAllowed ? 'block' : 'none';\n",
              "}\n",
              "\n",
              "        displayQuickchartButton(document);\n",
              "      </script>\n",
              "      <style>\n",
              "    .colab-df-container {\n",
              "      display:flex;\n",
              "      flex-wrap:wrap;\n",
              "      gap: 12px;\n",
              "    }\n",
              "\n",
              "    .colab-df-convert {\n",
              "      background-color: #E8F0FE;\n",
              "      border: none;\n",
              "      border-radius: 50%;\n",
              "      cursor: pointer;\n",
              "      display: none;\n",
              "      fill: #1967D2;\n",
              "      height: 32px;\n",
              "      padding: 0 0 0 0;\n",
              "      width: 32px;\n",
              "    }\n",
              "\n",
              "    .colab-df-convert:hover {\n",
              "      background-color: #E2EBFA;\n",
              "      box-shadow: 0px 1px 2px rgba(60, 64, 67, 0.3), 0px 1px 3px 1px rgba(60, 64, 67, 0.15);\n",
              "      fill: #174EA6;\n",
              "    }\n",
              "\n",
              "    [theme=dark] .colab-df-convert {\n",
              "      background-color: #3B4455;\n",
              "      fill: #D2E3FC;\n",
              "    }\n",
              "\n",
              "    [theme=dark] .colab-df-convert:hover {\n",
              "      background-color: #434B5C;\n",
              "      box-shadow: 0px 1px 3px 1px rgba(0, 0, 0, 0.15);\n",
              "      filter: drop-shadow(0px 1px 2px rgba(0, 0, 0, 0.3));\n",
              "      fill: #FFFFFF;\n",
              "    }\n",
              "  </style>\n",
              "\n",
              "      <script>\n",
              "        const buttonEl =\n",
              "          document.querySelector('#df-7627754e-888d-41bf-a5e9-163c558f9e3e button.colab-df-convert');\n",
              "        buttonEl.style.display =\n",
              "          google.colab.kernel.accessAllowed ? 'block' : 'none';\n",
              "\n",
              "        async function convertToInteractive(key) {\n",
              "          const element = document.querySelector('#df-7627754e-888d-41bf-a5e9-163c558f9e3e');\n",
              "          const dataTable =\n",
              "            await google.colab.kernel.invokeFunction('convertToInteractive',\n",
              "                                                     [key], {});\n",
              "          if (!dataTable) return;\n",
              "\n",
              "          const docLinkHtml = 'Like what you see? Visit the ' +\n",
              "            '<a target=\"_blank\" href=https://colab.research.google.com/notebooks/data_table.ipynb>data table notebook</a>'\n",
              "            + ' to learn more about interactive tables.';\n",
              "          element.innerHTML = '';\n",
              "          dataTable['output_type'] = 'display_data';\n",
              "          await google.colab.output.renderOutput(dataTable, element);\n",
              "          const docLink = document.createElement('div');\n",
              "          docLink.innerHTML = docLinkHtml;\n",
              "          element.appendChild(docLink);\n",
              "        }\n",
              "      </script>\n",
              "    </div>\n",
              "  </div>\n"
            ]
          },
          "metadata": {},
          "execution_count": 118
        }
      ]
    },
    {
      "cell_type": "code",
      "source": [
        "#import seaborn as sns\n",
        "sns.heatmap(cor,annot=True,cbar=True, cmap='coolwarm')"
      ],
      "metadata": {
        "colab": {
          "base_uri": "https://localhost:8080/",
          "height": 452
        },
        "id": "HNPG5aJLbQfn",
        "outputId": "06ba705e-e743-497d-c46c-64a810c092ba"
      },
      "execution_count": 119,
      "outputs": [
        {
          "output_type": "execute_result",
          "data": {
            "text/plain": [
              "<Axes: >"
            ]
          },
          "metadata": {},
          "execution_count": 119
        },
        {
          "output_type": "display_data",
          "data": {
            "text/plain": [
              "<Figure size 640x480 with 2 Axes>"
            ],
            "image/png": "[encoded data removed]"
          },
          "metadata": {}
        }
      ]
    },
    {
      "cell_type": "code",
      "source": [
        "from sklearn.preprocessing import LabelEncoder, OneHotEncoder\n",
        "\n",
        "# Label encode the categorical column\n",
        "label_encoder = LabelEncoder()\n",
        "categorical_encoded = label_encoder.fit_transform(y)\n",
        "\n",
        "# One-hot encode the categorical data\n",
        "onehot_encoder = OneHotEncoder()\n",
        "categorical_encoded = categorical_encoded.reshape(-1, 1)\n",
        "onehot_encoded = onehot_encoder.fit_transform(categorical_encoded).toarray()\n",
        "\n",
        "# Combine the encoded categorical data with the numeric data\n",
        "encoded_data = pd.concat([X, pd.DataFrame(onehot_encoded)], axis=1)\n",
        "\n",
        "print(encoded_data)"
      ],
      "metadata": {
        "id": "bOEQbiLObSst"
      },
      "execution_count": null,
      "outputs": []
    },
    {
      "cell_type": "code",
      "source": [
        "#Hyperparameteric tuning\n",
        "from sklearn.model_selection import GridSearchCV\n",
        "\n",
        "param_grid = {\n",
        "    'n_estimators': [50, 5, 200],\n",
        "    'max_depth': [None, 10, 20]\n",
        "}\n",
        "\n",
        "grid_search = GridSearchCV(model, param_grid, cv=5)\n",
        "grid_search.fit(X_train, y_train)\n",
        "\n",
        "best_model = grid_search.best_estimator_\n"
      ],
      "metadata": {
        "id": "b0fnb2BQcoe4"
      },
      "execution_count": 86,
      "outputs": []
    },
    {
      "cell_type": "code",
      "source": [
        "best_model"
      ],
      "metadata": {
        "colab": {
          "base_uri": "https://localhost:8080/",
          "height": 74
        },
        "id": "DPfW1OzPc0-j",
        "outputId": "405b87d1-7ec8-47a4-cd43-fb315adc6ceb"
      },
      "execution_count": 121,
      "outputs": [
        {
          "output_type": "execute_result",
          "data": {
            "text/plain": [
              "RandomForestClassifier(n_estimators=50, random_state=42)"
            ],
            "text/html": [
              "<style>#sk-container-id-18 {color: black;background-color: white;}#sk-container-id-18 pre{padding: 0;}#sk-container-id-18 div.sk-toggleable {background-color: white;}#sk-container-id-18 label.sk-toggleable__label {cursor: pointer;display: block;width: 100%;margin-bottom: 0;padding: 0.3em;box-sizing: border-box;text-align: center;}#sk-container-id-18 label.sk-toggleable__label-arrow:before {content: \"▸\";float: left;margin-right: 0.25em;color: #696969;}#sk-container-id-18 label.sk-toggleable__label-arrow:hover:before {color: black;}#sk-container-id-18 div.sk-estimator:hover label.sk-toggleable__label-arrow:before {color: black;}#sk-container-id-18 div.sk-toggleable__content {max-height: 0;max-width: 0;overflow: hidden;text-align: left;background-color: #f0f8ff;}#sk-container-id-18 div.sk-toggleable__content pre {margin: 0.2em;color: black;border-radius: 0.25em;background-color: #f0f8ff;}#sk-container-id-18 input.sk-toggleable__control:checked~div.sk-toggleable__content {max-height: 200px;max-width: 100%;overflow: auto;}#sk-container-id-18 input.sk-toggleable__control:checked~label.sk-toggleable__label-arrow:before {content: \"▾\";}#sk-container-id-18 div.sk-estimator input.sk-toggleable__control:checked~label.sk-toggleable__label {background-color: #d4ebff;}#sk-container-id-18 div.sk-label input.sk-toggleable__control:checked~label.sk-toggleable__label {background-color: #d4ebff;}#sk-container-id-18 input.sk-hidden--visually {border: 0;clip: rect(1px 1px 1px 1px);clip: rect(1px, 1px, 1px, 1px);height: 1px;margin: -1px;overflow: hidden;padding: 0;position: absolute;width: 1px;}#sk-container-id-18 div.sk-estimator {font-family: monospace;background-color: #f0f8ff;border: 1px dotted black;border-radius: 0.25em;box-sizing: border-box;margin-bottom: 0.5em;}#sk-container-id-18 div.sk-estimator:hover {background-color: #d4ebff;}#sk-container-id-18 div.sk-parallel-item::after {content: \"\";width: 100%;border-bottom: 1px solid gray;flex-grow: 1;}#sk-container-id-18 div.sk-label:hover label.sk-toggleable__label {background-color: #d4ebff;}#sk-container-id-18 div.sk-serial::before {content: \"\";position: absolute;border-left: 1px solid gray;box-sizing: border-box;top: 0;bottom: 0;left: 50%;z-index: 0;}#sk-container-id-18 div.sk-serial {display: flex;flex-direction: column;align-items: center;background-color: white;padding-right: 0.2em;padding-left: 0.2em;position: relative;}#sk-container-id-18 div.sk-item {position: relative;z-index: 1;}#sk-container-id-18 div.sk-parallel {display: flex;align-items: stretch;justify-content: center;background-color: white;position: relative;}#sk-container-id-18 div.sk-item::before, #sk-container-id-18 div.sk-parallel-item::before {content: \"\";position: absolute;border-left: 1px solid gray;box-sizing: border-box;top: 0;bottom: 0;left: 50%;z-index: -1;}#sk-container-id-18 div.sk-parallel-item {display: flex;flex-direction: column;z-index: 1;position: relative;background-color: white;}#sk-container-id-18 div.sk-parallel-item:first-child::after {align-self: flex-end;width: 50%;}#sk-container-id-18 div.sk-parallel-item:last-child::after {align-self: flex-start;width: 50%;}#sk-container-id-18 div.sk-parallel-item:only-child::after {width: 0;}#sk-container-id-18 div.sk-dashed-wrapped {border: 1px dashed gray;margin: 0 0.4em 0.5em 0.4em;box-sizing: border-box;padding-bottom: 0.4em;background-color: white;}#sk-container-id-18 div.sk-label label {font-family: monospace;font-weight: bold;display: inline-block;line-height: 1.2em;}#sk-container-id-18 div.sk-label-container {text-align: center;}#sk-container-id-18 div.sk-container {/* jupyter's `normalize.less` sets `[hidden] { display: none; }` but bootstrap.min.css set `[hidden] { display: none !important; }` so we also need the `!important` here to be able to override the default hidden behavior on the sphinx rendered scikit-learn.org. See: https://github.com/scikit-learn/scikit-learn/issues/21755 */display: inline-block !important;position: relative;}#sk-container-id-18 div.sk-text-repr-fallback {display: none;}</style><div id=\"sk-container-id-18\" class=\"sk-top-container\"><div class=\"sk-text-repr-fallback\"><pre>RandomForestClassifier(n_estimators=50, random_state=42)</pre><b>In a Jupyter environment, please rerun this cell to show the HTML representation or trust the notebook. <br />On GitHub, the HTML representation is unable to render, please try loading this page with nbviewer.org.</b></div><div class=\"sk-container\" hidden><div class=\"sk-item\"><div class=\"sk-estimator sk-toggleable\"><input class=\"sk-toggleable__control sk-hidden--visually\" id=\"sk-estimator-id-18\" type=\"checkbox\" checked><label for=\"sk-estimator-id-18\" class=\"sk-toggleable__label sk-toggleable__label-arrow\">RandomForestClassifier</label><div class=\"sk-toggleable__content\"><pre>RandomForestClassifier(n_estimators=50, random_state=42)</pre></div></div></div></div></div>"
            ]
          },
          "metadata": {},
          "execution_count": 121
        }
      ]
    },
    {
      "cell_type": "code",
      "source": [
        "# Create the Random Forest model\n",
        "model = RandomForestClassifier(n_estimators=50, max_depth=10, random_state=42)  # Adjust hyperparameters as needed\n",
        "\n",
        "# Train the model\n",
        "model.fit(independent_train,dependent_train)\n"
      ],
      "metadata": {
        "id": "sPYDu2N6b-dG"
      },
      "execution_count": null,
      "outputs": []
    },
    {
      "cell_type": "code",
      "source": [
        "y_pred = model.predict(X_test)\n",
        "y_pred"
      ],
      "metadata": {
        "id": "JFtwtKzIcQyH"
      },
      "execution_count": null,
      "outputs": []
    },
    {
      "cell_type": "code",
      "source": [
        "np.mean(y_pred == dependent_test)*100"
      ],
      "metadata": {
        "colab": {
          "base_uri": "https://localhost:8080/"
        },
        "id": "JiTMKptfcTnf",
        "outputId": "feb6e198-7451-4e1c-f296-a031651ea235"
      },
      "execution_count": 105,
      "outputs": [
        {
          "output_type": "execute_result",
          "data": {
            "text/plain": [
              "100.0"
            ]
          },
          "metadata": {},
          "execution_count": 105
        }
      ]
    },
    {
      "cell_type": "code",
      "source": [
        "from sklearn.model_selection import train_test_split\n",
        "from sklearn.ensemble import RandomForestClassifier\n",
        "from sklearn.metrics import accuracy_score\n",
        "\n",
        "\n"
      ],
      "metadata": {
        "id": "Uri2HBFrz-pN"
      },
      "execution_count": 94,
      "outputs": []
    },
    {
      "cell_type": "code",
      "source": [
        "# Convert column names to strings\n",
        "encoded_data.columns = encoded_data.columns.astype(str)\n",
        "\n",
        "# Split the data into training and testing sets\n",
        "X_train, X_test, y_train, y_test = train_test_split(encoded_data, y, test_size=0.2, random_state=42)\n",
        "\n"
      ],
      "metadata": {
        "id": "XfK3Z6sw0WES"
      },
      "execution_count": 96,
      "outputs": []
    },
    {
      "cell_type": "code",
      "source": [
        "# Initialize the Random Forest classifier\n",
        "model = RandomForestClassifier(n_estimators=50, random_state=42)\n",
        "\n",
        "# Train the model on the training data\n",
        "model.fit(X_train, y_train)\n"
      ],
      "metadata": {
        "id": "yA6eMKWF0ZRX"
      },
      "execution_count": null,
      "outputs": []
    },
    {
      "cell_type": "code",
      "source": [
        "# Make predictions on the test data\n",
        "y_pred = model.predict(X_test)\n",
        "\n"
      ],
      "metadata": {
        "id": "h1g6yfu-0ilD"
      },
      "execution_count": 123,
      "outputs": []
    },
    {
      "cell_type": "code",
      "source": [
        "# Calculate the accuracy of the model\n",
        "accuracy = accuracy_score(y_test, y_pred)\n",
        "print(\"Accuracy:\", accuracy)"
      ],
      "metadata": {
        "id": "tH4-Go-R0kgt"
      },
      "execution_count": null,
      "outputs": []
    },
    {
      "cell_type": "code",
      "source": [
        "np.mean(y_pred == dependent_test)*100"
      ],
      "metadata": {
        "id": "TTjmlnfz01Es"
      },
      "execution_count": null,
      "outputs": []
    }
  ]
}