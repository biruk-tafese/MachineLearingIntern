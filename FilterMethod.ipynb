{
  "nbformat": 4,
  "nbformat_minor": 0,
  "metadata": {
    "colab": {
      "provenance": [],
      "authorship_tag": "ABX9TyP/u/Y5O2ujxwQ3LPJ4nG2m",
      "include_colab_link": true
    },
    "kernelspec": {
      "name": "python3",
      "display_name": "Python 3"
    },
    "language_info": {
      "name": "python"
    }
  },
  "cells": [
    {
      "cell_type": "markdown",
      "metadata": {
        "id": "view-in-github",
        "colab_type": "text"
      },
      "source": [
        "<a href=\"https://colab.research.google.com/github/biruk-tafese/MachineLearingIntern/blob/main/FilterMethod.ipynb\" target=\"_parent\"><img src=\"https://colab.research.google.com/assets/colab-badge.svg\" alt=\"Open In Colab\"/></a>"
      ]
    },
    {
      "cell_type": "code",
      "execution_count": 12,
      "metadata": {
        "id": "jkjz7FwROh6l"
      },
      "outputs": [],
      "source": [
        "import pandas as pd\n",
        "import numpy as np\n",
        "\n",
        "features = [\"N\",\"P\",\"K\",\"temperature\",\"humidity\",\"ph\",\"rainfall\",\"label\"]\n",
        "df = pd.read_csv(\"crop_recommendation.csv\", names=features)\n",
        "\n"
      ]
    },
    {
      "cell_type": "markdown",
      "source": [
        "Prepare the data"
      ],
      "metadata": {
        "id": "TNVZ-TYUSds1"
      }
    },
    {
      "cell_type": "code",
      "source": [
        "df.shape\n"
      ],
      "metadata": {
        "colab": {
          "base_uri": "https://localhost:8080/"
        },
        "id": "OyZCd8mASfsH",
        "outputId": "ab0d37e8-b512-4f7d-ac15-f2c7d4aed243"
      },
      "execution_count": 13,
      "outputs": [
        {
          "output_type": "execute_result",
          "data": {
            "text/plain": [
              "(2201, 8)"
            ]
          },
          "metadata": {},
          "execution_count": 13
        }
      ]
    },
    {
      "cell_type": "code",
      "source": [
        "data = df.values\n",
        "X = data[:,0:7]\n",
        "Y = data[:,7]"
      ],
      "metadata": {
        "id": "pT0K_2VUS9q9"
      },
      "execution_count": 35,
      "outputs": []
    },
    {
      "cell_type": "markdown",
      "source": [
        "Filter method"
      ],
      "metadata": {
        "id": "qQI9_V-8TTSv"
      }
    },
    {
      "cell_type": "code",
      "source": [
        "from sklearn.feature_selection import SelectKBest\n",
        "from sklearn.feature_selection import chi2"
      ],
      "metadata": {
        "id": "TQsEGqWCTVE9"
      },
      "execution_count": 21,
      "outputs": []
    },
    {
      "cell_type": "code",
      "source": [
        "print(df.columns)\n"
      ],
      "metadata": {
        "colab": {
          "base_uri": "https://localhost:8080/"
        },
        "id": "KdoLdYsAVql6",
        "outputId": "d1d71a45-9dc5-456a-8d8f-25415255e7a9"
      },
      "execution_count": 24,
      "outputs": [
        {
          "output_type": "stream",
          "name": "stdout",
          "text": [
            "Index(['N', 'P', 'K', 'temperature', 'humidity', 'ph', 'rainfall', 'label'], dtype='object')\n"
          ]
        }
      ]
    },
    {
      "cell_type": "code",
      "source": [
        "# Assuming 'label' is the column with crop names\n",
        "categorical_feature = 'label'\n",
        "print(df[categorical_feature].unique())\n"
      ],
      "metadata": {
        "colab": {
          "base_uri": "https://localhost:8080/"
        },
        "id": "dUwcjT9IcA6B",
        "outputId": "4756f695-cf2d-42f6-a4a1-4dbd076ac537"
      },
      "execution_count": 38,
      "outputs": [
        {
          "output_type": "stream",
          "name": "stdout",
          "text": [
            "['label' 'rice' 'maize' 'chickpea' 'kidneybeans' 'pigeonpeas' 'mothbeans'\n",
            " 'mungbean' 'blackgram' 'lentil' 'pomegranate' 'banana' 'mango' 'grapes'\n",
            " 'watermelon' 'muskmelon' 'apple' 'orange' 'papaya' 'coconut' 'cotton'\n",
            " 'jute' 'coffee']\n"
          ]
        }
      ]
    },
    {
      "cell_type": "code",
      "source": [
        "import pandas as pd\n",
        "import numpy as np\n",
        "from sklearn.feature_selection import SelectKBest, chi2\n",
        "\n",
        "# Load the dataset\n",
        "data = pd.read_csv('crop_recommendation.csv')\n",
        "\n",
        "# Step 1: Encode Categorical Features (if any)\n",
        "data = pd.get_dummies(data, columns=['label'], prefix='')\n",
        "\n",
        "# Step 2: Convert Non-Numeric Data to Numeric (if any)\n",
        "data['N'] = pd.to_numeric(data['N'])\n",
        "data['P'] = pd.to_numeric(data['P'])\n",
        "data['K'] = pd.to_numeric(data['K'])\n",
        "\n",
        "# Step 3: Check column names and identify the correct target column\n",
        "# print(data.columns)\n",
        "\n",
        "# Step 4: Separate Features (X) and Target (Y)\n",
        "X = data.drop(columns=['K'])  # Features without the target column\n",
        "Y = data['K']  # Target, which is the target column\n",
        "\n",
        "# Step 5: Feature extraction using SelectKBest\n",
        "chi_best = SelectKBest(score_func=chi2, k=4)\n",
        "k_best = chi_best.fit(X, Y)\n",
        "\n",
        "# Summarize scores\n",
        "np.set_printoptions(precision=3)\n",
        "print(k_best.scores_)\n",
        "\n",
        "k_features = k_best.transform(X)\n",
        "\n",
        "# Summarize selected features\n",
        "print(k_features[0:5, :])\n"
      ],
      "metadata": {
        "colab": {
          "base_uri": "https://localhost:8080/"
        },
        "id": "4LLS163tdPWj",
        "outputId": "266a330d-444a-444a-93aa-6ba104bd1e7d"
      },
      "execution_count": 58,
      "outputs": [
        {
          "output_type": "stream",
          "name": "stdout",
          "text": [
            "[18145.006 33404.4     571.303  9041.321    33.646 24761.531  1041.012\n",
            "   446.712   191.49   2100.      653.667   592.808   181.572  1041.012\n",
            "   560.786   182.735   183.665   183.533   627.122   180.833   186.143\n",
            "   457.699  1922.721   482.466   208.053   602.725   610.514   473.672]\n",
            "[[ 90.     42.     82.003 202.936]\n",
            " [ 85.     58.     80.32  226.656]\n",
            " [ 60.     55.     82.321 263.964]\n",
            " [ 74.     35.     80.158 242.864]\n",
            " [ 78.     42.     81.605 262.717]]\n"
          ]
        }
      ]
    }
  ]
}