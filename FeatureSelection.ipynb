{
  "nbformat": 4,
  "nbformat_minor": 0,
  "metadata": {
    "colab": {
      "provenance": [],
      "authorship_tag": "ABX9TyOqjkD8dOXpCBQtv3Aw8omh",
      "include_colab_link": true
    },
    "kernelspec": {
      "name": "python3",
      "display_name": "Python 3"
    },
    "language_info": {
      "name": "python"
    }
  },
  "cells": [
    {
      "cell_type": "markdown",
      "metadata": {
        "id": "view-in-github",
        "colab_type": "text"
      },
      "source": [
        "<a href=\"https://colab.research.google.com/github/biruk-tafese/MachineLearingIntern/blob/main/FeatureSelection.ipynb\" target=\"_parent\"><img src=\"https://colab.research.google.com/assets/colab-badge.svg\" alt=\"Open In Colab\"/></a>"
      ]
    },
    {
      "cell_type": "markdown",
      "source": [
        "# Filter method"
      ],
      "metadata": {
        "id": "vK-CidIMnEBG"
      }
    },
    {
      "cell_type": "code",
      "execution_count": 12,
      "metadata": {
        "id": "jkjz7FwROh6l"
      },
      "outputs": [],
      "source": [
        "import pandas as pd\n",
        "import numpy as np\n",
        "\n",
        "features = [\"N\",\"P\",\"K\",\"temperature\",\"humidity\",\"ph\",\"rainfall\",\"label\"]\n",
        "df = pd.read_csv(\"crop_recommendation.csv\", names=features)\n",
        "\n"
      ]
    },
    {
      "cell_type": "markdown",
      "source": [
        "Prepare the data"
      ],
      "metadata": {
        "id": "TNVZ-TYUSds1"
      }
    },
    {
      "cell_type": "code",
      "source": [
        "df.shape\n"
      ],
      "metadata": {
        "colab": {
          "base_uri": "https://localhost:8080/"
        },
        "id": "OyZCd8mASfsH",
        "outputId": "ab0d37e8-b512-4f7d-ac15-f2c7d4aed243"
      },
      "execution_count": 13,
      "outputs": [
        {
          "output_type": "execute_result",
          "data": {
            "text/plain": [
              "(2201, 8)"
            ]
          },
          "metadata": {},
          "execution_count": 13
        }
      ]
    },
    {
      "cell_type": "code",
      "source": [
        "data = df.values\n",
        "X = data[:,0:7]\n",
        "Y = data[:,7]"
      ],
      "metadata": {
        "id": "pT0K_2VUS9q9"
      },
      "execution_count": 35,
      "outputs": []
    },
    {
      "cell_type": "markdown",
      "source": [
        "Filter method"
      ],
      "metadata": {
        "id": "qQI9_V-8TTSv"
      }
    },
    {
      "cell_type": "code",
      "source": [
        "from sklearn.feature_selection import SelectKBest\n",
        "from sklearn.feature_selection import chi2"
      ],
      "metadata": {
        "id": "TQsEGqWCTVE9"
      },
      "execution_count": 21,
      "outputs": []
    },
    {
      "cell_type": "code",
      "source": [
        "print(df.columns)\n"
      ],
      "metadata": {
        "colab": {
          "base_uri": "https://localhost:8080/"
        },
        "id": "KdoLdYsAVql6",
        "outputId": "d1d71a45-9dc5-456a-8d8f-25415255e7a9"
      },
      "execution_count": 24,
      "outputs": [
        {
          "output_type": "stream",
          "name": "stdout",
          "text": [
            "Index(['N', 'P', 'K', 'temperature', 'humidity', 'ph', 'rainfall', 'label'], dtype='object')\n"
          ]
        }
      ]
    },
    {
      "cell_type": "code",
      "source": [
        "# Assuming 'label' is the column with crop names\n",
        "categorical_feature = 'label'\n",
        "print(df[categorical_feature].unique())\n"
      ],
      "metadata": {
        "colab": {
          "base_uri": "https://localhost:8080/"
        },
        "id": "dUwcjT9IcA6B",
        "outputId": "4756f695-cf2d-42f6-a4a1-4dbd076ac537"
      },
      "execution_count": 38,
      "outputs": [
        {
          "output_type": "stream",
          "name": "stdout",
          "text": [
            "['label' 'rice' 'maize' 'chickpea' 'kidneybeans' 'pigeonpeas' 'mothbeans'\n",
            " 'mungbean' 'blackgram' 'lentil' 'pomegranate' 'banana' 'mango' 'grapes'\n",
            " 'watermelon' 'muskmelon' 'apple' 'orange' 'papaya' 'coconut' 'cotton'\n",
            " 'jute' 'coffee']\n"
          ]
        }
      ]
    },
    {
      "cell_type": "code",
      "source": [
        "import pandas as pd\n",
        "import numpy as np\n",
        "from sklearn.feature_selection import SelectKBest, chi2\n",
        "\n",
        "# Load the dataset\n",
        "data = pd.read_csv('crop_recommendation.csv')\n",
        "\n",
        "# Step 1: Encode Categorical Features (if any)\n",
        "data = pd.get_dummies(data, columns=['label'], prefix='')\n",
        "\n",
        "# Step 2: Convert Non-Numeric Data to Numeric (if any)\n",
        "data['N'] = pd.to_numeric(data['N'])\n",
        "data['P'] = pd.to_numeric(data['P'])\n",
        "data['K'] = pd.to_numeric(data['K'])\n",
        "\n",
        "# Step 3: Check column names and identify the correct target column\n",
        "# print(data.columns)\n",
        "\n",
        "# Step 4: Separate Features (X) and Target (Y)\n",
        "X = data.drop(columns=['K'])  # Features without the target column\n",
        "Y = data['K']  # Target, which is the target column\n",
        "\n",
        "# Step 5: Feature extraction using SelectKBest\n",
        "chi_best = SelectKBest(score_func=chi2, k=4)\n",
        "k_best = chi_best.fit(X, Y)\n",
        "\n",
        "# Summarize scores\n",
        "np.set_printoptions(precision=3)\n",
        "print(k_best.scores_)\n",
        "\n",
        "k_features = k_best.transform(X)\n",
        "\n",
        "# Summarize selected features\n",
        "print(k_features[0:5, :])\n"
      ],
      "metadata": {
        "id": "4LLS163tdPWj"
      },
      "execution_count": null,
      "outputs": []
    },
    {
      "cell_type": "markdown",
      "source": [
        "# Wrapper method"
      ],
      "metadata": {
        "id": "Q89w1Puom8h9"
      }
    },
    {
      "cell_type": "code",
      "source": [
        "from sklearn.feature_selection import RFE\n",
        "from sklearn.linear_model import LogisticRegression"
      ],
      "metadata": {
        "id": "ptT8RviOj3Qp"
      },
      "execution_count": 64,
      "outputs": []
    },
    {
      "cell_type": "code",
      "source": [
        "import warnings\n",
        "warnings.filterwarnings('ignore')"
      ],
      "metadata": {
        "id": "cM4WphAukFDR"
      },
      "execution_count": 62,
      "outputs": []
    },
    {
      "cell_type": "code",
      "source": [
        "\n",
        "# Feature Extraction\n",
        "model_lr = LogisticRegression()\n",
        "recur_fe = RFE(model_lr, n_features_to_select=3)\n",
        "Feature = recur_fe.fit(X, Y)\n",
        "\n",
        "print(\"Number of Features: %s\" % (Feature.n_features_))\n",
        "print(\"Selected Features are: %s\" % (Feature.support_))\n",
        "print(\"Features Ranking is as follows: %s\" % (Feature.ranking_))\n"
      ],
      "metadata": {
        "colab": {
          "base_uri": "https://localhost:8080/"
        },
        "id": "s2LCLABDkNlJ",
        "outputId": "e6c6d322-913d-4d71-a708-40c12267c5a5"
      },
      "execution_count": 72,
      "outputs": [
        {
          "output_type": "stream",
          "name": "stdout",
          "text": [
            "Number of Features: 3\n",
            "Selected Features are: [False False  True  True  True False False False False False False False\n",
            " False False False False False False False False False False False False\n",
            " False False False False]\n",
            "Features Ranking is as follows: [ 3  2  1  1  1  4 25  6 23 13 12 18  7 26 15 14 17 10 11 24 16 22  8  5\n",
            " 19  9 21 20]\n"
          ]
        }
      ]
    },
    {
      "cell_type": "markdown",
      "source": [
        "# Embedded"
      ],
      "metadata": {
        "id": "RYRe4JiTn_eN"
      }
    },
    {
      "cell_type": "code",
      "source": [
        "from sklearn.linear_model import Ridge\n"
      ],
      "metadata": {
        "id": "oi6H754noHWG"
      },
      "execution_count": 86,
      "outputs": []
    },
    {
      "cell_type": "code",
      "source": [
        "ridge_reg = Ridge(alpha=1.0)\n",
        "ridge_reg.fit(X, Y)"
      ],
      "metadata": {
        "colab": {
          "base_uri": "https://localhost:8080/",
          "height": 74
        },
        "id": "LjLgJ0qJoM7N",
        "outputId": "3f567eea-d261-4aab-a866-d0bf2f277247"
      },
      "execution_count": 87,
      "outputs": [
        {
          "output_type": "execute_result",
          "data": {
            "text/plain": [
              "Ridge()"
            ],
            "text/html": [
              "<style>#sk-container-id-2 {color: black;background-color: white;}#sk-container-id-2 pre{padding: 0;}#sk-container-id-2 div.sk-toggleable {background-color: white;}#sk-container-id-2 label.sk-toggleable__label {cursor: pointer;display: block;width: 100%;margin-bottom: 0;padding: 0.3em;box-sizing: border-box;text-align: center;}#sk-container-id-2 label.sk-toggleable__label-arrow:before {content: \"▸\";float: left;margin-right: 0.25em;color: #696969;}#sk-container-id-2 label.sk-toggleable__label-arrow:hover:before {color: black;}#sk-container-id-2 div.sk-estimator:hover label.sk-toggleable__label-arrow:before {color: black;}#sk-container-id-2 div.sk-toggleable__content {max-height: 0;max-width: 0;overflow: hidden;text-align: left;background-color: #f0f8ff;}#sk-container-id-2 div.sk-toggleable__content pre {margin: 0.2em;color: black;border-radius: 0.25em;background-color: #f0f8ff;}#sk-container-id-2 input.sk-toggleable__control:checked~div.sk-toggleable__content {max-height: 200px;max-width: 100%;overflow: auto;}#sk-container-id-2 input.sk-toggleable__control:checked~label.sk-toggleable__label-arrow:before {content: \"▾\";}#sk-container-id-2 div.sk-estimator input.sk-toggleable__control:checked~label.sk-toggleable__label {background-color: #d4ebff;}#sk-container-id-2 div.sk-label input.sk-toggleable__control:checked~label.sk-toggleable__label {background-color: #d4ebff;}#sk-container-id-2 input.sk-hidden--visually {border: 0;clip: rect(1px 1px 1px 1px);clip: rect(1px, 1px, 1px, 1px);height: 1px;margin: -1px;overflow: hidden;padding: 0;position: absolute;width: 1px;}#sk-container-id-2 div.sk-estimator {font-family: monospace;background-color: #f0f8ff;border: 1px dotted black;border-radius: 0.25em;box-sizing: border-box;margin-bottom: 0.5em;}#sk-container-id-2 div.sk-estimator:hover {background-color: #d4ebff;}#sk-container-id-2 div.sk-parallel-item::after {content: \"\";width: 100%;border-bottom: 1px solid gray;flex-grow: 1;}#sk-container-id-2 div.sk-label:hover label.sk-toggleable__label {background-color: #d4ebff;}#sk-container-id-2 div.sk-serial::before {content: \"\";position: absolute;border-left: 1px solid gray;box-sizing: border-box;top: 0;bottom: 0;left: 50%;z-index: 0;}#sk-container-id-2 div.sk-serial {display: flex;flex-direction: column;align-items: center;background-color: white;padding-right: 0.2em;padding-left: 0.2em;position: relative;}#sk-container-id-2 div.sk-item {position: relative;z-index: 1;}#sk-container-id-2 div.sk-parallel {display: flex;align-items: stretch;justify-content: center;background-color: white;position: relative;}#sk-container-id-2 div.sk-item::before, #sk-container-id-2 div.sk-parallel-item::before {content: \"\";position: absolute;border-left: 1px solid gray;box-sizing: border-box;top: 0;bottom: 0;left: 50%;z-index: -1;}#sk-container-id-2 div.sk-parallel-item {display: flex;flex-direction: column;z-index: 1;position: relative;background-color: white;}#sk-container-id-2 div.sk-parallel-item:first-child::after {align-self: flex-end;width: 50%;}#sk-container-id-2 div.sk-parallel-item:last-child::after {align-self: flex-start;width: 50%;}#sk-container-id-2 div.sk-parallel-item:only-child::after {width: 0;}#sk-container-id-2 div.sk-dashed-wrapped {border: 1px dashed gray;margin: 0 0.4em 0.5em 0.4em;box-sizing: border-box;padding-bottom: 0.4em;background-color: white;}#sk-container-id-2 div.sk-label label {font-family: monospace;font-weight: bold;display: inline-block;line-height: 1.2em;}#sk-container-id-2 div.sk-label-container {text-align: center;}#sk-container-id-2 div.sk-container {/* jupyter's `normalize.less` sets `[hidden] { display: none; }` but bootstrap.min.css set `[hidden] { display: none !important; }` so we also need the `!important` here to be able to override the default hidden behavior on the sphinx rendered scikit-learn.org. See: https://github.com/scikit-learn/scikit-learn/issues/21755 */display: inline-block !important;position: relative;}#sk-container-id-2 div.sk-text-repr-fallback {display: none;}</style><div id=\"sk-container-id-2\" class=\"sk-top-container\"><div class=\"sk-text-repr-fallback\"><pre>Ridge()</pre><b>In a Jupyter environment, please rerun this cell to show the HTML representation or trust the notebook. <br />On GitHub, the HTML representation is unable to render, please try loading this page with nbviewer.org.</b></div><div class=\"sk-container\" hidden><div class=\"sk-item\"><div class=\"sk-estimator sk-toggleable\"><input class=\"sk-toggleable__control sk-hidden--visually\" id=\"sk-estimator-id-2\" type=\"checkbox\" checked><label for=\"sk-estimator-id-2\" class=\"sk-toggleable__label sk-toggleable__label-arrow\">Ridge</label><div class=\"sk-toggleable__content\"><pre>Ridge()</pre></div></div></div></div></div>"
            ]
          },
          "metadata": {},
          "execution_count": 87
        }
      ]
    },
    {
      "cell_type": "code",
      "source": [
        "# a helper function for printing the coefficients\n",
        "def print_coeffs(coef, names=None, sort=False):\n",
        "  if names == None:\n",
        "    names = [\"X%s\" % x for x in range(len(coef))]\n",
        "  lst = zip(coef, names)\n",
        "  if sort:\n",
        "    lst = sorted(lst, key=lambda x: np.abs(x[0]))\n",
        "  return \" + \".join(\"%s * %s\" %(round(coefs, 3),name)\n",
        "                                for coefs, name in lst)\n"
      ],
      "metadata": {
        "id": "-rRh0cvzoWwN"
      },
      "execution_count": 88,
      "outputs": []
    },
    {
      "cell_type": "code",
      "source": [
        "print(\"Ridge model: \" ,print_coeffs(ridge_reg.coef_))"
      ],
      "metadata": {
        "colab": {
          "base_uri": "https://localhost:8080/"
        },
        "id": "Twz0tWV9pjiX",
        "outputId": "83093a43-8599-45f1-9fd2-010c3c3e204d"
      },
      "execution_count": 89,
      "outputs": [
        {
          "output_type": "stream",
          "name": "stdout",
          "text": [
            "Ridge model:  -0.012 * X0 + 0.18 * X1 + -0.042 * X2 + 0.114 * X3 + -0.171 * X4 + -0.007 * X5 + 132.98 * X6 + -3.641 * X7 + -30.505 * X8 + 34.626 * X9 + -13.356 * X10 + -11.179 * X11 + -27.35 * X12 + 134.464 * X13 + -6.983 * X14 + -25.399 * X15 + -31.131 * X16 + -26.467 * X17 + -11.284 * X18 + -25.171 * X19 + -29.078 * X20 + 6.033 * X21 + -33.877 * X22 + -0.846 * X23 + -27.545 * X24 + -4.305 * X25 + -7.172 * X26 + 7.184 * X27\n"
          ]
        }
      ]
    },
    {
      "cell_type": "code",
      "source": [],
      "metadata": {
        "id": "1fNpmPYIrHpo"
      },
      "execution_count": null,
      "outputs": []
    }
  ]
}