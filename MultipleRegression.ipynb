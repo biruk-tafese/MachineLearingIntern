#Multiple regression

from re import X
import pandas
from sklearn import linear_model

df = pandas.read_csv("data.csv")


X = df[['Weight', 'Volume']]
y = df[['CO2']]

regr = linear_model.LinearRegression()

regr.fit(X, y)

#predict the CO2 emission of a car where the weight is 2300kg , and the volume is 1300cm3

predictedCO2 = regr.predict([[2300,1300]])

print(predictedCO2)

# [[107.2087328]]   - output

# -=--======================================================
import pandas
from sklearn import linear_model

df = pandas.read_csv("data.csv")

X = df[["Weight","Volume"]]
y = df["CO2"]


regr = linear_model.LinearRegression()
regr.fit(X, y)

print(regr.coef_)

# [0.00755095 0.00780526]   - output


# making prediction for CO2 emission


import pandas 
from sklearn import linear_model

df = pandas.read_csv("data.csv")

X = df[["Weight","Volume"]]
y = df["CO2"]

regr = linear_model.LinearRegression()
regr.fit(X, y)

predictedCO2 = regr.predict([[3300, 1300]])

print(predictedCO2)





