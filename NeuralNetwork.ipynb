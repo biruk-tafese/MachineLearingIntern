{
  "nbformat": 4,
  "nbformat_minor": 0,
  "metadata": {
    "colab": {
      "provenance": [],
      "authorship_tag": "ABX9TyM/SzZgYwwR9y2Gdx5g+R1x",
      "include_colab_link": true
    },
    "kernelspec": {
      "name": "python3",
      "display_name": "Python 3"
    },
    "language_info": {
      "name": "python"
    }
  },
  "cells": [
    {
      "cell_type": "markdown",
      "metadata": {
        "id": "view-in-github",
        "colab_type": "text"
      },
      "source": [
        "<a href=\"https://colab.research.google.com/github/biruk-tafese/MachineLearingIntern/blob/main/NeuralNetwork.ipynb\" target=\"_parent\"><img src=\"https://colab.research.google.com/assets/colab-badge.svg\" alt=\"Open In Colab\"/></a>"
      ]
    },
    {
      "cell_type": "markdown",
      "source": [
        "# Important Libraries\n"
      ],
      "metadata": {
        "id": "ugw8J6GpEE1e"
      }
    },
    {
      "cell_type": "code",
      "source": [
        "import tensorflow as tf\n",
        "import pandas as pd\n",
        "from sklearn.model_selection import train_test_split\n",
        "from sklearn.preprocessing import StandardScaler, LabelEncoder\n",
        "from sklearn.metrics import accuracy_score\n"
      ],
      "metadata": {
        "id": "rZJBrAh1EDig"
      },
      "execution_count": 67,
      "outputs": []
    },
    {
      "cell_type": "markdown",
      "source": [
        "# Load the dataset"
      ],
      "metadata": {
        "id": "d-PrB-S6EOa5"
      }
    },
    {
      "cell_type": "code",
      "source": [
        "\n",
        "# Load the dataset\n",
        "data = pd.read_csv('cpdata.csv')\n"
      ],
      "metadata": {
        "id": "uonGhg_eENaD"
      },
      "execution_count": 66,
      "outputs": []
    },
    {
      "cell_type": "markdown",
      "source": [
        "# Split the features and labels"
      ],
      "metadata": {
        "id": "eVHjW0jnEZQZ"
      }
    },
    {
      "cell_type": "code",
      "source": [
        "# Split features and labels\n",
        "X = data.drop('label', axis=1)\n",
        "y = data['label']\n"
      ],
      "metadata": {
        "id": "XZUGsRuDEctU"
      },
      "execution_count": 68,
      "outputs": []
    },
    {
      "cell_type": "markdown",
      "source": [
        "# Encoding using labelEncoder"
      ],
      "metadata": {
        "id": "nzi98SHREhbf"
      }
    },
    {
      "cell_type": "code",
      "source": [
        "# Convert labels to numeric classes using LabelEncoder\n",
        "label_encoder = LabelEncoder()\n",
        "y_encoded = label_encoder.fit_transform(y)\n"
      ],
      "metadata": {
        "id": "oeY-OqsTEmzX"
      },
      "execution_count": 69,
      "outputs": []
    },
    {
      "cell_type": "markdown",
      "source": [
        "# training and testing datasets"
      ],
      "metadata": {
        "id": "1AT2QZscEr00"
      }
    },
    {
      "cell_type": "code",
      "source": [
        "# Split the dataset into training and testing sets\n",
        "X_train, X_test, y_train, y_test = train_test_split(X, y_encoded, test_size=0.2, random_state=42)\n"
      ],
      "metadata": {
        "id": "n9SxyBDlExQZ"
      },
      "execution_count": 70,
      "outputs": []
    },
    {
      "cell_type": "markdown",
      "source": [
        "# Standardize the features"
      ],
      "metadata": {
        "id": "JDzN4AwwE0-V"
      }
    },
    {
      "cell_type": "code",
      "source": [
        "# Standardize the features\n",
        "scaler = StandardScaler()\n",
        "X_train_scaled = scaler.fit_transform(X_train)\n",
        "X_test_scaled = scaler.transform(X_test)\n"
      ],
      "metadata": {
        "id": "QZqohVHOE491"
      },
      "execution_count": 71,
      "outputs": []
    },
    {
      "cell_type": "markdown",
      "source": [
        "# The Model architecture"
      ],
      "metadata": {
        "id": "6mmOcVQhE90p"
      }
    },
    {
      "cell_type": "code",
      "source": [
        "\n",
        "# Define the model architecture\n",
        "model = tf.keras.models.Sequential([\n",
        "    tf.keras.layers.Input(shape=(X_train_scaled.shape[1],)),\n",
        "    tf.keras.layers.Dense(64, activation='relu'),\n",
        "    tf.keras.layers.Dense(32, activation='relu'),\n",
        "    tf.keras.layers.Dense(len(label_encoder.classes_), activation='softmax')  # Softmax for multi-class classification\n",
        "])"
      ],
      "metadata": {
        "id": "8wTRmz_-FBaN"
      },
      "execution_count": 72,
      "outputs": []
    },
    {
      "cell_type": "markdown",
      "source": [
        "# compile the model"
      ],
      "metadata": {
        "id": "NwfF05-2FFtk"
      }
    },
    {
      "cell_type": "code",
      "source": [
        "# Compile the model\n",
        "model.compile(optimizer='adam', loss='sparse_categorical_crossentropy', metrics=['accuracy'])\n"
      ],
      "metadata": {
        "id": "0V4ojwmdFIs5"
      },
      "execution_count": 74,
      "outputs": []
    },
    {
      "cell_type": "markdown",
      "source": [
        "\n",
        "\n",
        "# train the model```\n",
        "```\n",
        "\n"
      ],
      "metadata": {
        "id": "FooUXwZOFLkv"
      }
    },
    {
      "cell_type": "code",
      "source": [
        "# Train the model\n",
        "model.fit(X_train_scaled, y_train, epochs=50, batch_size=32, verbose=1)\n"
      ],
      "metadata": {
        "colab": {
          "base_uri": "https://localhost:8080/"
        },
        "id": "bjW8JjJfFRnq",
        "outputId": "b630a3d9-8a94-44eb-8988-e9c09ba95253"
      },
      "execution_count": 83,
      "outputs": [
        {
          "output_type": "stream",
          "name": "stdout",
          "text": [
            "Epoch 1/50\n",
            "78/78 [==============================] - 0s 2ms/step - loss: 0.1670 - accuracy: 0.9387\n",
            "Epoch 2/50\n",
            "78/78 [==============================] - 0s 2ms/step - loss: 0.1664 - accuracy: 0.9419\n",
            "Epoch 3/50\n",
            "78/78 [==============================] - 0s 2ms/step - loss: 0.1639 - accuracy: 0.9419\n",
            "Epoch 4/50\n",
            "78/78 [==============================] - 0s 1ms/step - loss: 0.1652 - accuracy: 0.9435\n",
            "Epoch 5/50\n",
            "78/78 [==============================] - 0s 2ms/step - loss: 0.1613 - accuracy: 0.9423\n",
            "Epoch 6/50\n",
            "78/78 [==============================] - 0s 1ms/step - loss: 0.1657 - accuracy: 0.9419\n",
            "Epoch 7/50\n",
            "78/78 [==============================] - 0s 2ms/step - loss: 0.1595 - accuracy: 0.9391\n",
            "Epoch 8/50\n",
            "78/78 [==============================] - 0s 2ms/step - loss: 0.1570 - accuracy: 0.9496\n",
            "Epoch 9/50\n",
            "78/78 [==============================] - 0s 2ms/step - loss: 0.1635 - accuracy: 0.9444\n",
            "Epoch 10/50\n",
            "78/78 [==============================] - 0s 2ms/step - loss: 0.1574 - accuracy: 0.9427\n",
            "Epoch 11/50\n",
            "78/78 [==============================] - 0s 2ms/step - loss: 0.1593 - accuracy: 0.9423\n",
            "Epoch 12/50\n",
            "78/78 [==============================] - 0s 2ms/step - loss: 0.1593 - accuracy: 0.9452\n",
            "Epoch 13/50\n",
            "78/78 [==============================] - 0s 2ms/step - loss: 0.1597 - accuracy: 0.9435\n",
            "Epoch 14/50\n",
            "78/78 [==============================] - 0s 2ms/step - loss: 0.1569 - accuracy: 0.9431\n",
            "Epoch 15/50\n",
            "78/78 [==============================] - 0s 1ms/step - loss: 0.1596 - accuracy: 0.9456\n",
            "Epoch 16/50\n",
            "78/78 [==============================] - 0s 1ms/step - loss: 0.1566 - accuracy: 0.9440\n",
            "Epoch 17/50\n",
            "78/78 [==============================] - 0s 1ms/step - loss: 0.1544 - accuracy: 0.9456\n",
            "Epoch 18/50\n",
            "78/78 [==============================] - 0s 1ms/step - loss: 0.1576 - accuracy: 0.9452\n",
            "Epoch 19/50\n",
            "78/78 [==============================] - 0s 1ms/step - loss: 0.1533 - accuracy: 0.9468\n",
            "Epoch 20/50\n",
            "78/78 [==============================] - 0s 1ms/step - loss: 0.1569 - accuracy: 0.9440\n",
            "Epoch 21/50\n",
            "78/78 [==============================] - 0s 1ms/step - loss: 0.1516 - accuracy: 0.9444\n",
            "Epoch 22/50\n",
            "78/78 [==============================] - 0s 1ms/step - loss: 0.1548 - accuracy: 0.9488\n",
            "Epoch 23/50\n",
            "78/78 [==============================] - 0s 1ms/step - loss: 0.1514 - accuracy: 0.9504\n",
            "Epoch 24/50\n",
            "78/78 [==============================] - 0s 1ms/step - loss: 0.1522 - accuracy: 0.9460\n",
            "Epoch 25/50\n",
            "78/78 [==============================] - 0s 1ms/step - loss: 0.1527 - accuracy: 0.9452\n",
            "Epoch 26/50\n",
            "78/78 [==============================] - 0s 1ms/step - loss: 0.1510 - accuracy: 0.9452\n",
            "Epoch 27/50\n",
            "78/78 [==============================] - 0s 1ms/step - loss: 0.1511 - accuracy: 0.9504\n",
            "Epoch 28/50\n",
            "78/78 [==============================] - 0s 1ms/step - loss: 0.1459 - accuracy: 0.9492\n",
            "Epoch 29/50\n",
            "78/78 [==============================] - 0s 1ms/step - loss: 0.1479 - accuracy: 0.9504\n",
            "Epoch 30/50\n",
            "78/78 [==============================] - 0s 1ms/step - loss: 0.1489 - accuracy: 0.9508\n",
            "Epoch 31/50\n",
            "78/78 [==============================] - 0s 1ms/step - loss: 0.1473 - accuracy: 0.9496\n",
            "Epoch 32/50\n",
            "78/78 [==============================] - 0s 1ms/step - loss: 0.1478 - accuracy: 0.9468\n",
            "Epoch 33/50\n",
            "78/78 [==============================] - 0s 1ms/step - loss: 0.1439 - accuracy: 0.9544\n",
            "Epoch 34/50\n",
            "78/78 [==============================] - 0s 1ms/step - loss: 0.1455 - accuracy: 0.9536\n",
            "Epoch 35/50\n",
            "78/78 [==============================] - 0s 1ms/step - loss: 0.1479 - accuracy: 0.9504\n",
            "Epoch 36/50\n",
            "78/78 [==============================] - 0s 1ms/step - loss: 0.1434 - accuracy: 0.9504\n",
            "Epoch 37/50\n",
            "78/78 [==============================] - 0s 1ms/step - loss: 0.1458 - accuracy: 0.9492\n",
            "Epoch 38/50\n",
            "78/78 [==============================] - 0s 1ms/step - loss: 0.1423 - accuracy: 0.9512\n",
            "Epoch 39/50\n",
            "78/78 [==============================] - 0s 1ms/step - loss: 0.1454 - accuracy: 0.9464\n",
            "Epoch 40/50\n",
            "78/78 [==============================] - 0s 1ms/step - loss: 0.1453 - accuracy: 0.9508\n",
            "Epoch 41/50\n",
            "78/78 [==============================] - 0s 1ms/step - loss: 0.1431 - accuracy: 0.9504\n",
            "Epoch 42/50\n",
            "78/78 [==============================] - 0s 1ms/step - loss: 0.1425 - accuracy: 0.9464\n",
            "Epoch 43/50\n",
            "78/78 [==============================] - 0s 1ms/step - loss: 0.1412 - accuracy: 0.9504\n",
            "Epoch 44/50\n",
            "78/78 [==============================] - 0s 1ms/step - loss: 0.1446 - accuracy: 0.9504\n",
            "Epoch 45/50\n",
            "78/78 [==============================] - 0s 1ms/step - loss: 0.1416 - accuracy: 0.9484\n",
            "Epoch 46/50\n",
            "78/78 [==============================] - 0s 1ms/step - loss: 0.1435 - accuracy: 0.9520\n",
            "Epoch 47/50\n",
            "78/78 [==============================] - 0s 1ms/step - loss: 0.1458 - accuracy: 0.9492\n",
            "Epoch 48/50\n",
            "78/78 [==============================] - 0s 1ms/step - loss: 0.1409 - accuracy: 0.9520\n",
            "Epoch 49/50\n",
            "78/78 [==============================] - 0s 1ms/step - loss: 0.1425 - accuracy: 0.9472\n",
            "Epoch 50/50\n",
            "78/78 [==============================] - 0s 1ms/step - loss: 0.1382 - accuracy: 0.9500\n"
          ]
        },
        {
          "output_type": "execute_result",
          "data": {
            "text/plain": [
              "<keras.callbacks.History at 0x7b1a909d35e0>"
            ]
          },
          "metadata": {},
          "execution_count": 83
        }
      ]
    },
    {
      "cell_type": "markdown",
      "source": [
        "# Evaluate the model using the dataset"
      ],
      "metadata": {
        "id": "PWgWG-SnFZQE"
      }
    },
    {
      "cell_type": "code",
      "source": [
        "# Evaluate the model on the test set\n",
        "loss, accuracy = model.evaluate(X_test_scaled, y_test, verbose=0)\n",
        "print(f'Test Loss: {loss}')\n",
        "print(f'Test Accuracy: {accuracy}')\n"
      ],
      "metadata": {
        "colab": {
          "base_uri": "https://localhost:8080/"
        },
        "id": "KsD9Ro2EFgya",
        "outputId": "7a33d64f-214a-46c4-cef3-9e2f944ae73e"
      },
      "execution_count": 84,
      "outputs": [
        {
          "output_type": "stream",
          "name": "stdout",
          "text": [
            "Test Loss: 0.21824733912944794\n",
            "Test Accuracy: 0.92580646276474\n"
          ]
        }
      ]
    },
    {
      "cell_type": "markdown",
      "source": [
        "# make the prediction"
      ],
      "metadata": {
        "id": "918VLr69FpOU"
      }
    },
    {
      "cell_type": "code",
      "source": [
        "# Make predictions\n",
        "predictions = model.predict(X_test_scaled)\n",
        "predicted_classes = predictions.argmax(axis=1)\n",
        "actual_classes = y_test\n"
      ],
      "metadata": {
        "colab": {
          "base_uri": "https://localhost:8080/"
        },
        "id": "4Wq8iFY2Fr5P",
        "outputId": "2c9f70bd-c1bf-4c72-b76e-0dfc86a37b06"
      },
      "execution_count": 76,
      "outputs": [
        {
          "output_type": "stream",
          "name": "stdout",
          "text": [
            "20/20 [==============================] - 0s 865us/step\n"
          ]
        }
      ]
    },
    {
      "cell_type": "markdown",
      "source": [
        "# Calculate the aacuracy"
      ],
      "metadata": {
        "id": "OCSLdONRFvVB"
      }
    },
    {
      "cell_type": "code",
      "source": [
        "# Calculate accuracy\n",
        "test_accuracy = accuracy_score(actual_classes, predicted_classes)\n",
        "print(f'Accuracy on test set: {test_accuracy*100}')\n"
      ],
      "metadata": {
        "colab": {
          "base_uri": "https://localhost:8080/"
        },
        "id": "Larlid24FzL-",
        "outputId": "953da887-7b33-4ba5-9f07-7d11385cd5c1"
      },
      "execution_count": 82,
      "outputs": [
        {
          "output_type": "stream",
          "name": "stdout",
          "text": [
            "Accuracy on test set: 92.90322580645162\n"
          ]
        }
      ]
    },
    {
      "cell_type": "markdown",
      "source": [],
      "metadata": {
        "id": "nrHSrlQuF30-"
      }
    },
    {
      "cell_type": "code",
      "source": [
        "import tensorflow as tf\n",
        "import pandas as pd\n",
        "from sklearn.model_selection import train_test_split\n",
        "from sklearn.preprocessing import StandardScaler, LabelEncoder\n",
        "from sklearn.metrics import accuracy_score\n",
        "\n",
        "# Load the dataset\n",
        "data = pd.read_csv('cpdata.csv')\n",
        "\n",
        "# Split features and labels\n",
        "X = data.drop('label', axis=1)\n",
        "y = data['label']\n",
        "\n",
        "# Convert labels to numeric classes using LabelEncoder\n",
        "label_encoder = LabelEncoder()\n",
        "y_encoded = label_encoder.fit_transform(y)\n",
        "\n",
        "# Split the dataset into training and testing sets\n",
        "X_train, X_test, y_train, y_test = train_test_split(X, y_encoded, test_size=0.2, random_state=42)\n",
        "\n",
        "# Standardize the features\n",
        "scaler = StandardScaler()\n",
        "X_train_scaled = scaler.fit_transform(X_train)\n",
        "X_test_scaled = scaler.transform(X_test)\n",
        "\n",
        "# Define the model architecture\n",
        "model = tf.keras.models.Sequential([\n",
        "    tf.keras.layers.Input(shape=(X_train_scaled.shape[1],)),\n",
        "    tf.keras.layers.Dense(64, activation='relu'),\n",
        "    tf.keras.layers.Dense(32, activation='relu'),\n",
        "    tf.keras.layers.Dense(len(label_encoder.classes_), activation='softmax')  # Softmax for multi-class classification\n",
        "])\n",
        "\n",
        "# Compile the model\n",
        "model.compile(optimizer='adam', loss='sparse_categorical_crossentropy', metrics=['accuracy'])\n",
        "\n",
        "# Train the model\n",
        "model.fit(X_train_scaled, y_train, epochs=100, batch_size=32, verbose=1)\n",
        "\n",
        "# Evaluate the model on the test set\n",
        "test_loss, test_accuracy = model.evaluate(X_test_scaled, y_test, verbose=0)\n",
        "print(f'Test Loss: {test_loss}')\n",
        "print(f'Test Accuracy: {test_accuracy}')\n",
        "\n",
        "# Make predictions on the test set\n",
        "predictions = model.predict(X_test_scaled)\n",
        "predicted_classes = predictions.argmax(axis=1)\n",
        "\n",
        "# Convert predicted classes back to crop labels\n",
        "predicted_crop_labels = label_encoder.inverse_transform(predicted_classes)\n",
        "\n",
        "# Convert actual classes back to crop labels\n",
        "actual_crop_labels = label_encoder.inverse_transform(y_test)\n",
        "\n",
        "# Calculate accuracy\n",
        "accuracy = accuracy_score(actual_crop_labels, predicted_crop_labels)\n",
        "print(f'Accuracy on test set: {accuracy}')\n",
        "\n",
        "# Print the first few predicted and actual crop labels for comparison\n",
        "for i in range(10):\n",
        "    print(f'Predicted: {predicted_crop_labels[i]}, Actual: {actual_crop_labels[i]}')\n"
      ],
      "metadata": {
        "colab": {
          "base_uri": "https://localhost:8080/"
        },
        "id": "932Yzd_dGhdN",
        "outputId": "5aec55b8-7395-4215-cdfc-0a421c878aa9"
      },
      "execution_count": 80,
      "outputs": [
        {
          "output_type": "stream",
          "name": "stdout",
          "text": [
            "Epoch 1/100\n",
            "78/78 [==============================] - 1s 1ms/step - loss: 3.2631 - accuracy: 0.1452\n",
            "Epoch 2/100\n",
            "78/78 [==============================] - 0s 1ms/step - loss: 2.5897 - accuracy: 0.2895\n",
            "Epoch 3/100\n",
            "78/78 [==============================] - 0s 1ms/step - loss: 1.8279 - accuracy: 0.4758\n",
            "Epoch 4/100\n",
            "78/78 [==============================] - 0s 1ms/step - loss: 1.3371 - accuracy: 0.6222\n",
            "Epoch 5/100\n",
            "78/78 [==============================] - 0s 1ms/step - loss: 1.0792 - accuracy: 0.6831\n",
            "Epoch 6/100\n",
            "78/78 [==============================] - 0s 1ms/step - loss: 0.9301 - accuracy: 0.7069\n",
            "Epoch 7/100\n",
            "78/78 [==============================] - 0s 1ms/step - loss: 0.8293 - accuracy: 0.7310\n",
            "Epoch 8/100\n",
            "78/78 [==============================] - 0s 1ms/step - loss: 0.7469 - accuracy: 0.7512\n",
            "Epoch 9/100\n",
            "78/78 [==============================] - 0s 1ms/step - loss: 0.6864 - accuracy: 0.7685\n",
            "Epoch 10/100\n",
            "78/78 [==============================] - 0s 1ms/step - loss: 0.6344 - accuracy: 0.7867\n",
            "Epoch 11/100\n",
            "78/78 [==============================] - 0s 1ms/step - loss: 0.5925 - accuracy: 0.7972\n",
            "Epoch 12/100\n",
            "78/78 [==============================] - 0s 1ms/step - loss: 0.5568 - accuracy: 0.8077\n",
            "Epoch 13/100\n",
            "78/78 [==============================] - 0s 1ms/step - loss: 0.5200 - accuracy: 0.8238\n",
            "Epoch 14/100\n",
            "78/78 [==============================] - 0s 1ms/step - loss: 0.4931 - accuracy: 0.8331\n",
            "Epoch 15/100\n",
            "78/78 [==============================] - 0s 1ms/step - loss: 0.4696 - accuracy: 0.8387\n",
            "Epoch 16/100\n",
            "78/78 [==============================] - 0s 1ms/step - loss: 0.4521 - accuracy: 0.8419\n",
            "Epoch 17/100\n",
            "78/78 [==============================] - 0s 1ms/step - loss: 0.4277 - accuracy: 0.8577\n",
            "Epoch 18/100\n",
            "78/78 [==============================] - 0s 2ms/step - loss: 0.4131 - accuracy: 0.8544\n",
            "Epoch 19/100\n",
            "78/78 [==============================] - 0s 2ms/step - loss: 0.3997 - accuracy: 0.8597\n",
            "Epoch 20/100\n",
            "78/78 [==============================] - 0s 1ms/step - loss: 0.3884 - accuracy: 0.8669\n",
            "Epoch 21/100\n",
            "78/78 [==============================] - 0s 1ms/step - loss: 0.3715 - accuracy: 0.8722\n",
            "Epoch 22/100\n",
            "78/78 [==============================] - 0s 1ms/step - loss: 0.3638 - accuracy: 0.8734\n",
            "Epoch 23/100\n",
            "78/78 [==============================] - 0s 1ms/step - loss: 0.3521 - accuracy: 0.8823\n",
            "Epoch 24/100\n",
            "78/78 [==============================] - 0s 1ms/step - loss: 0.3459 - accuracy: 0.8827\n",
            "Epoch 25/100\n",
            "78/78 [==============================] - 0s 1ms/step - loss: 0.3370 - accuracy: 0.8831\n",
            "Epoch 26/100\n",
            "78/78 [==============================] - 0s 1ms/step - loss: 0.3294 - accuracy: 0.8867\n",
            "Epoch 27/100\n",
            "78/78 [==============================] - 0s 1ms/step - loss: 0.3206 - accuracy: 0.8895\n",
            "Epoch 28/100\n",
            "78/78 [==============================] - 0s 1ms/step - loss: 0.3158 - accuracy: 0.8883\n",
            "Epoch 29/100\n",
            "78/78 [==============================] - 0s 1ms/step - loss: 0.3065 - accuracy: 0.8944\n",
            "Epoch 30/100\n",
            "78/78 [==============================] - 0s 1ms/step - loss: 0.3043 - accuracy: 0.8968\n",
            "Epoch 31/100\n",
            "78/78 [==============================] - 0s 1ms/step - loss: 0.2961 - accuracy: 0.8964\n",
            "Epoch 32/100\n",
            "78/78 [==============================] - 0s 1ms/step - loss: 0.2881 - accuracy: 0.9048\n",
            "Epoch 33/100\n",
            "78/78 [==============================] - 0s 1ms/step - loss: 0.2833 - accuracy: 0.9012\n",
            "Epoch 34/100\n",
            "78/78 [==============================] - 0s 1ms/step - loss: 0.2815 - accuracy: 0.9048\n",
            "Epoch 35/100\n",
            "78/78 [==============================] - 0s 1ms/step - loss: 0.2746 - accuracy: 0.9028\n",
            "Epoch 36/100\n",
            "78/78 [==============================] - 0s 1ms/step - loss: 0.2746 - accuracy: 0.9036\n",
            "Epoch 37/100\n",
            "78/78 [==============================] - 0s 1ms/step - loss: 0.2700 - accuracy: 0.9044\n",
            "Epoch 38/100\n",
            "78/78 [==============================] - 0s 1ms/step - loss: 0.2649 - accuracy: 0.9060\n",
            "Epoch 39/100\n",
            "78/78 [==============================] - 0s 1ms/step - loss: 0.2653 - accuracy: 0.9081\n",
            "Epoch 40/100\n",
            "78/78 [==============================] - 0s 1ms/step - loss: 0.2552 - accuracy: 0.9109\n",
            "Epoch 41/100\n",
            "78/78 [==============================] - 0s 1ms/step - loss: 0.2518 - accuracy: 0.9113\n",
            "Epoch 42/100\n",
            "78/78 [==============================] - 0s 1ms/step - loss: 0.2526 - accuracy: 0.9125\n",
            "Epoch 43/100\n",
            "78/78 [==============================] - 0s 1ms/step - loss: 0.2477 - accuracy: 0.9137\n",
            "Epoch 44/100\n",
            "78/78 [==============================] - 0s 1ms/step - loss: 0.2423 - accuracy: 0.9194\n",
            "Epoch 45/100\n",
            "78/78 [==============================] - 0s 1ms/step - loss: 0.2404 - accuracy: 0.9157\n",
            "Epoch 46/100\n",
            "78/78 [==============================] - 0s 1ms/step - loss: 0.2381 - accuracy: 0.9181\n",
            "Epoch 47/100\n",
            "78/78 [==============================] - 0s 1ms/step - loss: 0.2367 - accuracy: 0.9145\n",
            "Epoch 48/100\n",
            "78/78 [==============================] - 0s 1ms/step - loss: 0.2330 - accuracy: 0.9169\n",
            "Epoch 49/100\n",
            "78/78 [==============================] - 0s 1ms/step - loss: 0.2303 - accuracy: 0.9153\n",
            "Epoch 50/100\n",
            "78/78 [==============================] - 0s 1ms/step - loss: 0.2332 - accuracy: 0.9165\n",
            "Epoch 51/100\n",
            "78/78 [==============================] - 0s 1ms/step - loss: 0.2269 - accuracy: 0.9185\n",
            "Epoch 52/100\n",
            "78/78 [==============================] - 0s 1ms/step - loss: 0.2234 - accuracy: 0.9181\n",
            "Epoch 53/100\n",
            "78/78 [==============================] - 0s 1ms/step - loss: 0.2192 - accuracy: 0.9234\n",
            "Epoch 54/100\n",
            "78/78 [==============================] - 0s 1ms/step - loss: 0.2211 - accuracy: 0.9214\n",
            "Epoch 55/100\n",
            "78/78 [==============================] - 0s 1ms/step - loss: 0.2177 - accuracy: 0.9230\n",
            "Epoch 56/100\n",
            "78/78 [==============================] - 0s 1ms/step - loss: 0.2199 - accuracy: 0.9190\n",
            "Epoch 57/100\n",
            "78/78 [==============================] - 0s 1ms/step - loss: 0.2119 - accuracy: 0.9258\n",
            "Epoch 58/100\n",
            "78/78 [==============================] - 0s 1ms/step - loss: 0.2125 - accuracy: 0.9290\n",
            "Epoch 59/100\n",
            "78/78 [==============================] - 0s 1ms/step - loss: 0.2122 - accuracy: 0.9250\n",
            "Epoch 60/100\n",
            "78/78 [==============================] - 0s 1ms/step - loss: 0.2140 - accuracy: 0.9222\n",
            "Epoch 61/100\n",
            "78/78 [==============================] - 0s 1ms/step - loss: 0.2120 - accuracy: 0.9246\n",
            "Epoch 62/100\n",
            "78/78 [==============================] - 0s 1ms/step - loss: 0.2096 - accuracy: 0.9234\n",
            "Epoch 63/100\n",
            "78/78 [==============================] - 0s 2ms/step - loss: 0.2063 - accuracy: 0.9270\n",
            "Epoch 64/100\n",
            "78/78 [==============================] - 0s 2ms/step - loss: 0.2034 - accuracy: 0.9274\n",
            "Epoch 65/100\n",
            "78/78 [==============================] - 0s 2ms/step - loss: 0.2023 - accuracy: 0.9286\n",
            "Epoch 66/100\n",
            "78/78 [==============================] - 0s 2ms/step - loss: 0.2010 - accuracy: 0.9319\n",
            "Epoch 67/100\n",
            "78/78 [==============================] - 0s 2ms/step - loss: 0.1978 - accuracy: 0.9339\n",
            "Epoch 68/100\n",
            "78/78 [==============================] - 0s 2ms/step - loss: 0.1970 - accuracy: 0.9327\n",
            "Epoch 69/100\n",
            "78/78 [==============================] - 0s 2ms/step - loss: 0.1951 - accuracy: 0.9359\n",
            "Epoch 70/100\n",
            "78/78 [==============================] - 0s 2ms/step - loss: 0.1970 - accuracy: 0.9335\n",
            "Epoch 71/100\n",
            "78/78 [==============================] - 0s 2ms/step - loss: 0.1927 - accuracy: 0.9310\n",
            "Epoch 72/100\n",
            "78/78 [==============================] - 0s 2ms/step - loss: 0.1949 - accuracy: 0.9286\n",
            "Epoch 73/100\n",
            "78/78 [==============================] - 0s 1ms/step - loss: 0.1902 - accuracy: 0.9327\n",
            "Epoch 74/100\n",
            "78/78 [==============================] - 0s 2ms/step - loss: 0.1910 - accuracy: 0.9331\n",
            "Epoch 75/100\n",
            "78/78 [==============================] - 0s 2ms/step - loss: 0.1905 - accuracy: 0.9302\n",
            "Epoch 76/100\n",
            "78/78 [==============================] - 0s 2ms/step - loss: 0.1873 - accuracy: 0.9351\n",
            "Epoch 77/100\n",
            "78/78 [==============================] - 0s 2ms/step - loss: 0.1862 - accuracy: 0.9383\n",
            "Epoch 78/100\n",
            "78/78 [==============================] - 0s 2ms/step - loss: 0.1853 - accuracy: 0.9331\n",
            "Epoch 79/100\n",
            "78/78 [==============================] - 0s 1ms/step - loss: 0.1828 - accuracy: 0.9371\n",
            "Epoch 80/100\n",
            "78/78 [==============================] - 0s 1ms/step - loss: 0.1848 - accuracy: 0.9355\n",
            "Epoch 81/100\n",
            "78/78 [==============================] - 0s 1ms/step - loss: 0.1814 - accuracy: 0.9323\n",
            "Epoch 82/100\n",
            "78/78 [==============================] - 0s 1ms/step - loss: 0.1794 - accuracy: 0.9399\n",
            "Epoch 83/100\n",
            "78/78 [==============================] - 0s 1ms/step - loss: 0.1834 - accuracy: 0.9351\n",
            "Epoch 84/100\n",
            "78/78 [==============================] - 0s 1ms/step - loss: 0.1807 - accuracy: 0.9391\n",
            "Epoch 85/100\n",
            "78/78 [==============================] - 0s 1ms/step - loss: 0.1779 - accuracy: 0.9367\n",
            "Epoch 86/100\n",
            "78/78 [==============================] - 0s 1ms/step - loss: 0.1786 - accuracy: 0.9379\n",
            "Epoch 87/100\n",
            "78/78 [==============================] - 0s 1ms/step - loss: 0.1804 - accuracy: 0.9355\n",
            "Epoch 88/100\n",
            "78/78 [==============================] - 0s 1ms/step - loss: 0.1746 - accuracy: 0.9403\n",
            "Epoch 89/100\n",
            "78/78 [==============================] - 0s 1ms/step - loss: 0.1766 - accuracy: 0.9363\n",
            "Epoch 90/100\n",
            "78/78 [==============================] - 0s 1ms/step - loss: 0.1747 - accuracy: 0.9407\n",
            "Epoch 91/100\n",
            "78/78 [==============================] - 0s 1ms/step - loss: 0.1759 - accuracy: 0.9371\n",
            "Epoch 92/100\n",
            "78/78 [==============================] - 0s 1ms/step - loss: 0.1731 - accuracy: 0.9391\n",
            "Epoch 93/100\n",
            "78/78 [==============================] - 0s 1ms/step - loss: 0.1708 - accuracy: 0.9395\n",
            "Epoch 94/100\n",
            "78/78 [==============================] - 0s 1ms/step - loss: 0.1713 - accuracy: 0.9359\n",
            "Epoch 95/100\n",
            "78/78 [==============================] - 0s 1ms/step - loss: 0.1698 - accuracy: 0.9419\n",
            "Epoch 96/100\n",
            "78/78 [==============================] - 0s 1ms/step - loss: 0.1702 - accuracy: 0.9387\n",
            "Epoch 97/100\n",
            "78/78 [==============================] - 0s 1ms/step - loss: 0.1679 - accuracy: 0.9427\n",
            "Epoch 98/100\n",
            "78/78 [==============================] - 0s 1ms/step - loss: 0.1697 - accuracy: 0.9383\n",
            "Epoch 99/100\n",
            "78/78 [==============================] - 0s 1ms/step - loss: 0.1703 - accuracy: 0.9427\n",
            "Epoch 100/100\n",
            "78/78 [==============================] - 0s 1ms/step - loss: 0.1689 - accuracy: 0.9355\n",
            "Test Loss: 0.2064715176820755\n",
            "Test Accuracy: 0.9290322661399841\n",
            "20/20 [==============================] - 0s 906us/step\n",
            "Accuracy on test set: 0.9290322580645162\n",
            "Predicted: Jute, Actual: Jute\n",
            "Predicted: orange, Actual: pomegranate\n",
            "Predicted: Black gram, Actual: Black gram\n",
            "Predicted: Moth Beans, Actual: Moth Beans\n",
            "Predicted: Peas, Actual: Peas\n",
            "Predicted: Pigeon Peas, Actual: Pigeon Peas\n",
            "Predicted: mango, Actual: mango\n",
            "Predicted: Tobacco, Actual: Tobacco\n",
            "Predicted: Tea, Actual: Tea\n",
            "Predicted: Coconut, Actual: Coconut\n"
          ]
        }
      ]
    }
  ]
}