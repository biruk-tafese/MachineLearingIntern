{
  "nbformat": 4,
  "nbformat_minor": 0,
  "metadata": {
    "colab": {
      "provenance": [],
      "authorship_tag": "ABX9TyOXoPvDLBOd3S6xvS8WsK23",
      "include_colab_link": true
    },
    "kernelspec": {
      "name": "python3",
      "display_name": "Python 3"
    },
    "language_info": {
      "name": "python"
    }
  },
  "cells": [
    {
      "cell_type": "markdown",
      "metadata": {
        "id": "view-in-github",
        "colab_type": "text"
      },
      "source": [
        "<a href=\"https://colab.research.google.com/github/biruk-tafese/MachineLearingIntern/blob/main/heirarchical_ml.ipynb\" target=\"_parent\"><img src=\"https://colab.research.google.com/assets/colab-badge.svg\" alt=\"Open In Colab\"/></a>"
      ]
    },
    {
      "cell_type": "markdown",
      "source": [
        "precision - positively predicting\n",
        "\n",
        "Sensitivity (Recall) - measures how good the model is at predicting positives.\n"
      ],
      "metadata": {
        "id": "SqHV7HRR8CVI"
      }
    },
    {
      "cell_type": "code",
      "source": [
        "import numpy\n",
        "from sklearn import metrics\n",
        "\n",
        "actual = numpy.random.binomial(1,.9, size = 1000)\n",
        "predicted = numpy.random.binomial(1,.9,size=1000)\n",
        "\n",
        "Sensitivity_recall = metrics.recall_score(actual, predicted)\n",
        "\n",
        "print(Sensitivity_recall)"
      ],
      "metadata": {
        "colab": {
          "base_uri": "https://localhost:8080/"
        },
        "id": "2_UyGmsd8Hj9",
        "outputId": "dae523c0-2023-4ac8-a6be-7a6c7c7cc929"
      },
      "execution_count": 2,
      "outputs": [
        {
          "output_type": "stream",
          "name": "stdout",
          "text": [
            "0.9023569023569024\n"
          ]
        }
      ]
    },
    {
      "cell_type": "markdown",
      "source": [
        "F-score\n",
        "F-score is the \"harmonic mean\" of precision and sensitivity. varies every time you run the code"
      ],
      "metadata": {
        "id": "drA4I0m-_MTW"
      }
    },
    {
      "cell_type": "code",
      "source": [
        "import numpy\n",
        "from sklearn import metrics\n",
        "\n",
        "actual = numpy.random.binomial(1,.9,size=1000)\n",
        "predicted = numpy.random.binomial(1,.9,size=1000)\n",
        "\n",
        "Accuracy = metrics.accuracy_score(actual, predicted)\n",
        "Precision = metrics.precision_score(actual,predicted)\n",
        "Sensitivity_recall = metrics.recall_score(actual, predicted)\n",
        "Specificity = metrics.recall_score(actual, predicted, pos_label=0)\n",
        "F1_score = metrics.f1_score(actual, predicted)\n",
        "#metrics:\n",
        "print({\"Accuracy\":Accuracy, \"Precision\":Precision, \"Sensitivity_recall\":Sensitivity_recall, \"Specificity\":Specificity,\"F1_score\":F1_score})"
      ],
      "metadata": {
        "colab": {
          "base_uri": "https://localhost:8080/"
        },
        "id": "TVvbupxn_QQi",
        "outputId": "4bd2c713-c080-49a9-87e3-df59f07cb451"
      },
      "execution_count": 8,
      "outputs": [
        {
          "output_type": "stream",
          "name": "stdout",
          "text": [
            "{'Accuracy': 0.805, 'Precision': 0.8989784335981839, 'Sensitivity_recall': 0.8819599109131403, 'Specificity': 0.12745098039215685, 'F1_score': 0.8903878583473861}\n"
          ]
        }
      ]
    },
    {
      "cell_type": "markdown",
      "source": [],
      "metadata": {
        "id": "DhnUtgHqC-s9"
      }
    },
    {
      "cell_type": "code",
      "source": [
        "import numpy as np\n",
        "import matplotlib.pyplot as plt\n",
        "\n",
        "from scipy.cluster.hierarchy import dendrogram, linkage\n",
        "from sklearn.cluster import AgglomerativeClustering\n",
        "\n",
        "x = [4, 5, 10, 4, 3, 11, 14 , 6, 10, 12]\n",
        "y = [21, 19, 24, 17, 16, 25, 24, 22, 21, 21]\n",
        "\n",
        "data = list(zip(x, y))\n",
        "\n",
        "linkage_data = linkage(data, method='ward', metric ='euclidean')\n",
        "\n",
        "dendrogram(linkage_data)\n",
        "\n",
        "plt.show()"
      ],
      "metadata": {
        "colab": {
          "base_uri": "https://localhost:8080/",
          "height": 434
        },
        "id": "aE2cXKXELw0_",
        "outputId": "817efa9b-43ba-4a37-8112-4b702d227f9f"
      },
      "execution_count": 13,
      "outputs": [
        {
          "output_type": "display_data",
          "data": {
            "text/plain": [
              "<Figure size 640x480 with 1 Axes>"
            ],
            "image/png": "[encoded data removed]"
          },
          "metadata": {}
        }
      ]
    },
    {
      "cell_type": "code",
      "source": [
        "hierarchical_cluster = AgglomerativeClustering(n_clusters=2, affinity='euclidean', linkage='ward')\n",
        "\n",
        "labels = hierarchical_cluster.fit_predict(data)\n",
        "plt.scatter(x, y, c=labels)\n",
        "plt.show()"
      ],
      "metadata": {
        "colab": {
          "base_uri": "https://localhost:8080/",
          "height": 485
        },
        "id": "0SsvbjO-TEjD",
        "outputId": "a47f4eba-ffec-4b1a-a66d-4725edf13446"
      },
      "execution_count": 16,
      "outputs": [
        {
          "output_type": "stream",
          "name": "stderr",
          "text": [
            "/usr/local/lib/python3.10/dist-packages/sklearn/cluster/_agglomerative.py:983: FutureWarning: Attribute `affinity` was deprecated in version 1.2 and will be removed in 1.4. Use `metric` instead\n",
            "  warnings.warn(\n"
          ]
        },
        {
          "output_type": "display_data",
          "data": {
            "text/plain": [
              "<Figure size 640x480 with 1 Axes>"
            ],
            "image/png": "[encoded data removed]"
          },
          "metadata": {}
        }
      ]
    },
    {
      "cell_type": "code",
      "source": [
        "\n",
        "print(list(zip(x, y)))"
      ],
      "metadata": {
        "colab": {
          "base_uri": "https://localhost:8080/"
        },
        "id": "EdPj044zXDbO",
        "outputId": "53d03581-28b5-4b17-dfc8-39ee1d62fffb"
      },
      "execution_count": 18,
      "outputs": [
        {
          "output_type": "stream",
          "name": "stdout",
          "text": [
            "[(4, 21), (5, 19), (10, 24), (4, 17), (3, 16), (11, 25), (14, 24), (6, 22), (10, 21), (12, 21)]\n"
          ]
        }
      ]
    },
    {
      "cell_type": "code",
      "source": [
        "print(hierarchical_cluster.fit_predict(data))"
      ],
      "metadata": {
        "colab": {
          "base_uri": "https://localhost:8080/"
        },
        "id": "XfzNH6NcXld0",
        "outputId": "bec56ea1-dd81-4f17-c2bd-9f15ff7199f3"
      },
      "execution_count": 20,
      "outputs": [
        {
          "output_type": "stream",
          "name": "stdout",
          "text": [
            "[0 0 1 0 0 1 1 0 1 1]\n"
          ]
        },
        {
          "output_type": "stream",
          "name": "stderr",
          "text": [
            "/usr/local/lib/python3.10/dist-packages/sklearn/cluster/_agglomerative.py:983: FutureWarning: Attribute `affinity` was deprecated in version 1.2 and will be removed in 1.4. Use `metric` instead\n",
            "  warnings.warn(\n"
          ]
        }
      ]
    },
    {
      "cell_type": "code",
      "source": [],
      "metadata": {
        "id": "D8hsg-mlYRJS"
      },
      "execution_count": null,
      "outputs": []
    }
  ]
}