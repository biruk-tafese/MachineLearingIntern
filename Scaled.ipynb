{
  "nbformat": 4,
  "nbformat_minor": 0,
  "metadata": {
    "colab": {
      "provenance": [],
      "authorship_tag": "ABX9TyN/pNntJ+fz/6sKbJzo7jxZ",
      "include_colab_link": true
    },
    "kernelspec": {
      "name": "python3",
      "display_name": "Python 3"
    },
    "language_info": {
      "name": "python"
    }
  },
  "cells": [
    {
      "cell_type": "markdown",
      "metadata": {
        "id": "view-in-github",
        "colab_type": "text"
      },
      "source": [
        "<a href=\"https://colab.research.google.com/github/biruk-tafese/MachineLearingIntern/blob/main/Scaled.ipynb\" target=\"_parent\"><img src=\"https://colab.research.google.com/assets/colab-badge.svg\" alt=\"Open In Colab\"/></a>"
      ]
    },
    {
      "cell_type": "markdown",
      "source": [
        "# New Section"
      ],
      "metadata": {
        "id": "t1MAcFyYLUfK"
      }
    },
    {
      "cell_type": "code",
      "source": [
        "\n",
        "import pandas\n",
        "from sklearn import linear_model\n",
        "from sklearn.preprocessing import StandardScaler\n",
        "scale = StandardScaler()\n",
        "\n",
        "df = pandas.read_csv(\"data.csv\")\n",
        "\n",
        "X = df[[\"Weight\",\"Volume\"]]\n",
        "\n",
        "scaledX = scale.fit_transform(X)\n",
        "\n",
        "print(scaledX)"
      ],
      "metadata": {
        "colab": {
          "base_uri": "https://localhost:8080/"
        },
        "id": "FcLl_boLR09w",
        "outputId": "0dd034e7-b726-4f60-e75d-83db440eacd8"
      },
      "execution_count": 16,
      "outputs": [
        {
          "output_type": "stream",
          "name": "stdout",
          "text": [
            "[[-2.10389253 -1.59336644]\n",
            " [-0.55407235 -1.07190106]\n",
            " [-1.52166278 -1.59336644]\n",
            " [-1.78973979 -1.85409913]\n",
            " [-0.63784641 -0.28970299]\n",
            " [-1.52166278 -1.59336644]\n",
            " [-0.76769621 -0.55043568]\n",
            " [ 0.3046118  -0.28970299]\n",
            " [-0.7551301  -0.28970299]\n",
            " [-0.59595938 -0.0289703 ]\n",
            " [-1.30803892 -1.33263375]\n",
            " [-1.26615189 -0.81116837]\n",
            " [-0.7551301  -1.59336644]\n",
            " [-0.16871166 -0.0289703 ]\n",
            " [ 0.14125238 -0.0289703 ]\n",
            " [ 0.15800719 -0.0289703 ]\n",
            " [ 0.3046118  -0.0289703 ]\n",
            " [-0.05142797  1.53542584]\n",
            " [-0.72580918 -0.0289703 ]\n",
            " [ 0.14962979  1.01396046]\n",
            " [ 1.2219378  -0.0289703 ]\n",
            " [ 0.5685001   1.01396046]\n",
            " [ 0.3046118   1.27469315]\n",
            " [ 0.51404696 -0.0289703 ]\n",
            " [ 0.51404696  1.01396046]\n",
            " [ 0.72348212 -0.28970299]\n",
            " [ 0.8281997   1.01396046]\n",
            " [ 1.81254495  1.01396046]\n",
            " [ 0.96642691 -0.0289703 ]\n",
            " [ 1.72877089  1.01396046]\n",
            " [ 1.30990057  1.27469315]\n",
            " [ 1.90050772  1.01396046]\n",
            " [-0.23991961 -0.0289703 ]\n",
            " [ 0.40932938 -0.0289703 ]\n",
            " [ 0.47215993 -0.0289703 ]\n",
            " [ 0.4302729   2.31762392]]\n"
          ]
        }
      ]
    }
  ]
}